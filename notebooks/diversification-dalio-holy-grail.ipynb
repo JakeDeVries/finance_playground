{
 "cells": [
  {
   "cell_type": "markdown",
   "metadata": {},
   "source": [
    "# Ray Dalio's Holy Grail"
   ]
  },
  {
   "cell_type": "markdown",
   "metadata": {},
   "source": [
    "Reducing return/risk ratio through diversification.\n",
    "\n",
    "From https://www.investopedia.com/video/play/ray-dalio-his-portfolio-holy-grail/"
   ]
  },
  {
   "cell_type": "code",
   "execution_count": 1,
   "metadata": {},
   "outputs": [],
   "source": [
    "%config InlineBackend.figure_format = \"retina\"\n",
    "\n",
    "import numpy as np\n",
    "import pandas as pd\n",
    "import altair as alt"
   ]
  },
  {
   "cell_type": "code",
   "execution_count": 2,
   "metadata": {},
   "outputs": [],
   "source": [
    "def correlated_streams(n, risk, corr):\n",
    "    # Assuming 10% average return\n",
    "    # Benchmark avg return 10%, avg std %15\n",
    "    means = np.full(n, 10, dtype=np.dtype(\"d\"))\n",
    "    bench_std = 15\n",
    "    num_samples = 10_000\n",
    "    \n",
    "    corr_mat = np.diag(np.full(n, 9.9, dtype=np.dtype(\"d\")))\n",
    "    corr_mat += 0.1\n",
    "    corr_mat = corr_mat / 10\n",
    "    corr_mat[0] = corr_mat[:,0] = corr\n",
    "    corr_mat[0,0] = 1\n",
    "    stds = np.full(n, risk)\n",
    "    stds[0] = bench_std\n",
    "    stds_mat = np.diag(stds)\n",
    "    cov_mat = stds_mat @ corr_mat @ stds_mat\n",
    "    \n",
    "    streams = np.random.multivariate_normal(means, cov_mat, size=num_samples, tol=0.01)\n",
    "    \n",
    "    return (streams[:,0], streams[:,1:])"
   ]
  },
  {
   "cell_type": "code",
   "execution_count": 3,
   "metadata": {},
   "outputs": [],
   "source": [
    "def aggregate_risk(return_streams, n):\n",
    "    \"\"\"Returns the pooled risk (std) of the `n` first streams \n",
    "    in `return_streams`\n",
    "    \"\"\"\n",
    "    aggregate_returns = np.sum(return_streams[:,:n], axis=1) / n\n",
    "    return aggregate_returns.std()"
   ]
  },
  {
   "cell_type": "code",
   "execution_count": 4,
   "metadata": {},
   "outputs": [
    {
     "name": "stderr",
     "output_type": "stream",
     "text": [
      "/usr/local/anaconda3/lib/python3.6/site-packages/ipykernel_launcher.py:18: RuntimeWarning: covariance is not symmetric positive-semidefinite.\n"
     ]
    }
   ],
   "source": [
    "max_assets = 20\n",
    "assets = range(1, max_assets+1)\n",
    "risk_levels = range(1, 15)\n",
    "index = pd.MultiIndex.from_product([risk_levels, assets], names=[\"risk_level\", \"num_assets\"])\n",
    "\n",
    "simulated_data = pd.DataFrame(index=index)\n",
    "\n",
    "for risk in risk_levels:\n",
    "    for corr in np.arange(0.1, .7, 0.1):\n",
    "        benchmark, return_streams = correlated_streams(max_assets, risk, corr)\n",
    "        risk_level = np.zeros(max_assets)\n",
    "        for num_assets in assets:\n",
    "            risk_level[num_assets-1] = aggregate_risk(return_streams, num_assets)\n",
    "        simulated_data.loc[(risk, ), round(corr, 1)] = risk_level\n",
    "        \n",
    "simulated_data.columns.names = [\"correlation\"]"
   ]
  },
  {
   "cell_type": "code",
   "execution_count": 5,
   "metadata": {},
   "outputs": [],
   "source": [
    "def plot_risk_level(data, risk_level):\n",
    "    subset = simulated_data.query(\"risk_level == @risk_level\")\n",
    "    stacked = subset.stack().reset_index(name=\"risk\")\n",
    "    stacked.head()\n",
    "    \n",
    "    chart = alt.Chart(data=stacked)\n",
    "\n",
    "    highlight = alt.selection(type=\"single\", on=\"mouseover\",\n",
    "                              fields=[\"correlation\"], nearest=True)\n",
    "\n",
    "    base = chart.encode(\n",
    "                alt.X(\"num_assets\", axis=alt.Axis(title=\"Number of Assets\")),\n",
    "                alt.Y(\"risk\", axis=alt.Axis(title=\"Risk %\")),\n",
    "                alt.Color(\"correlation:N\", scale=alt.Scale(scheme=\"set2\")))\n",
    "\n",
    "    points = base.mark_circle().encode(\n",
    "        opacity=alt.value(0)\n",
    "    ).add_selection(\n",
    "        highlight\n",
    "    ).properties(\n",
    "        width=600,\n",
    "        title=\"Risk % by number of assets in portfolio\"\n",
    "    )\n",
    "\n",
    "    lines = base.mark_line().encode(\n",
    "        size=alt.condition(~highlight, alt.value(1), alt.value(3)),\n",
    "        tooltip=[\"correlation\"]\n",
    "    )\n",
    "\n",
    "    return points + lines"
   ]
  },
  {
   "cell_type": "code",
   "execution_count": 6,
   "metadata": {},
   "outputs": [
    {
     "data": {
      "application/vnd.vegalite.v2+json": {
       "$schema": "https://vega.github.io/schema/vega-lite/v2.6.0.json",
       "config": {
        "view": {
         "height": 300,
         "width": 400
        }
       },
       "datasets": {
        "data-2e6ae5e2adabb7e875c2f379a6d842e5": [
         {
          "correlation": 0.1,
          "num_assets": 1,
          "risk": 10.13858162132535,
          "risk_level": 10
         },
         {
          "correlation": 0.2,
          "num_assets": 1,
          "risk": 9.932008004135547,
          "risk_level": 10
         },
         {
          "correlation": 0.3,
          "num_assets": 1,
          "risk": 10.058090318123897,
          "risk_level": 10
         },
         {
          "correlation": 0.4,
          "num_assets": 1,
          "risk": 10.244615883041547,
          "risk_level": 10
         },
         {
          "correlation": 0.5,
          "num_assets": 1,
          "risk": 10.433419487866313,
          "risk_level": 10
         },
         {
          "correlation": 0.6,
          "num_assets": 1,
          "risk": 10.616391505138143,
          "risk_level": 10
         },
         {
          "correlation": 0.1,
          "num_assets": 2,
          "risk": 7.134421874883964,
          "risk_level": 10
         },
         {
          "correlation": 0.2,
          "num_assets": 2,
          "risk": 7.109112850632798,
          "risk_level": 10
         },
         {
          "correlation": 0.3,
          "num_assets": 2,
          "risk": 7.303676230031535,
          "risk_level": 10
         },
         {
          "correlation": 0.4,
          "num_assets": 2,
          "risk": 7.547966149623599,
          "risk_level": 10
         },
         {
          "correlation": 0.5,
          "num_assets": 2,
          "risk": 7.761246179454821,
          "risk_level": 10
         },
         {
          "correlation": 0.6,
          "num_assets": 2,
          "risk": 7.9467413144656245,
          "risk_level": 10
         },
         {
          "correlation": 0.1,
          "num_assets": 3,
          "risk": 5.903435769760006,
          "risk_level": 10
         },
         {
          "correlation": 0.2,
          "num_assets": 3,
          "risk": 5.830548146052109,
          "risk_level": 10
         },
         {
          "correlation": 0.3,
          "num_assets": 3,
          "risk": 6.057483706816233,
          "risk_level": 10
         },
         {
          "correlation": 0.4,
          "num_assets": 3,
          "risk": 6.3356274065227405,
          "risk_level": 10
         },
         {
          "correlation": 0.5,
          "num_assets": 3,
          "risk": 6.595391705063905,
          "risk_level": 10
         },
         {
          "correlation": 0.6,
          "num_assets": 3,
          "risk": 6.819165924864123,
          "risk_level": 10
         },
         {
          "correlation": 0.1,
          "num_assets": 4,
          "risk": 5.118836635281563,
          "risk_level": 10
         },
         {
          "correlation": 0.2,
          "num_assets": 4,
          "risk": 5.076670822875687,
          "risk_level": 10
         },
         {
          "correlation": 0.3,
          "num_assets": 4,
          "risk": 5.31295641636253,
          "risk_level": 10
         },
         {
          "correlation": 0.4,
          "num_assets": 4,
          "risk": 5.615041848691554,
          "risk_level": 10
         },
         {
          "correlation": 0.5,
          "num_assets": 4,
          "risk": 5.952647790070485,
          "risk_level": 10
         },
         {
          "correlation": 0.6,
          "num_assets": 4,
          "risk": 6.237781693530875,
          "risk_level": 10
         },
         {
          "correlation": 0.1,
          "num_assets": 5,
          "risk": 4.589147447720585,
          "risk_level": 10
         },
         {
          "correlation": 0.2,
          "num_assets": 5,
          "risk": 4.553165113083261,
          "risk_level": 10
         },
         {
          "correlation": 0.3,
          "num_assets": 5,
          "risk": 4.822877115516823,
          "risk_level": 10
         },
         {
          "correlation": 0.4,
          "num_assets": 5,
          "risk": 5.163229122008294,
          "risk_level": 10
         },
         {
          "correlation": 0.5,
          "num_assets": 5,
          "risk": 5.505410840003741,
          "risk_level": 10
         },
         {
          "correlation": 0.6,
          "num_assets": 5,
          "risk": 5.860924040112603,
          "risk_level": 10
         },
         {
          "correlation": 0.1,
          "num_assets": 6,
          "risk": 4.198867287142848,
          "risk_level": 10
         },
         {
          "correlation": 0.2,
          "num_assets": 6,
          "risk": 4.182503441920151,
          "risk_level": 10
         },
         {
          "correlation": 0.3,
          "num_assets": 6,
          "risk": 4.458685639595578,
          "risk_level": 10
         },
         {
          "correlation": 0.4,
          "num_assets": 6,
          "risk": 4.845135403880935,
          "risk_level": 10
         },
         {
          "correlation": 0.5,
          "num_assets": 6,
          "risk": 5.192541128578845,
          "risk_level": 10
         },
         {
          "correlation": 0.6,
          "num_assets": 6,
          "risk": 5.5663290617423185,
          "risk_level": 10
         },
         {
          "correlation": 0.1,
          "num_assets": 7,
          "risk": 3.8975531704183775,
          "risk_level": 10
         },
         {
          "correlation": 0.2,
          "num_assets": 7,
          "risk": 3.895113086749355,
          "risk_level": 10
         },
         {
          "correlation": 0.3,
          "num_assets": 7,
          "risk": 4.168831701019439,
          "risk_level": 10
         },
         {
          "correlation": 0.4,
          "num_assets": 7,
          "risk": 4.603118070671918,
          "risk_level": 10
         },
         {
          "correlation": 0.5,
          "num_assets": 7,
          "risk": 4.964161076780218,
          "risk_level": 10
         },
         {
          "correlation": 0.6,
          "num_assets": 7,
          "risk": 5.341198564215963,
          "risk_level": 10
         },
         {
          "correlation": 0.1,
          "num_assets": 8,
          "risk": 3.6583789430999123,
          "risk_level": 10
         },
         {
          "correlation": 0.2,
          "num_assets": 8,
          "risk": 3.683002560156141,
          "risk_level": 10
         },
         {
          "correlation": 0.3,
          "num_assets": 8,
          "risk": 3.9237333304246276,
          "risk_level": 10
         },
         {
          "correlation": 0.4,
          "num_assets": 8,
          "risk": 4.39334382612317,
          "risk_level": 10
         },
         {
          "correlation": 0.5,
          "num_assets": 8,
          "risk": 4.7734626774469,
          "risk_level": 10
         },
         {
          "correlation": 0.6,
          "num_assets": 8,
          "risk": 5.166431923277669,
          "risk_level": 10
         },
         {
          "correlation": 0.1,
          "num_assets": 9,
          "risk": 3.469142046567287,
          "risk_level": 10
         },
         {
          "correlation": 0.2,
          "num_assets": 9,
          "risk": 3.4737038704971153,
          "risk_level": 10
         },
         {
          "correlation": 0.3,
          "num_assets": 9,
          "risk": 3.7211463887500473,
          "risk_level": 10
         },
         {
          "correlation": 0.4,
          "num_assets": 9,
          "risk": 4.233587826232538,
          "risk_level": 10
         },
         {
          "correlation": 0.5,
          "num_assets": 9,
          "risk": 4.63135405577237,
          "risk_level": 10
         },
         {
          "correlation": 0.6,
          "num_assets": 9,
          "risk": 5.037405091058337,
          "risk_level": 10
         },
         {
          "correlation": 0.1,
          "num_assets": 10,
          "risk": 3.3030573930490985,
          "risk_level": 10
         },
         {
          "correlation": 0.2,
          "num_assets": 10,
          "risk": 3.316255788773606,
          "risk_level": 10
         },
         {
          "correlation": 0.3,
          "num_assets": 10,
          "risk": 3.5842763840590477,
          "risk_level": 10
         },
         {
          "correlation": 0.4,
          "num_assets": 10,
          "risk": 4.117698975367462,
          "risk_level": 10
         },
         {
          "correlation": 0.5,
          "num_assets": 10,
          "risk": 4.510299676219107,
          "risk_level": 10
         },
         {
          "correlation": 0.6,
          "num_assets": 10,
          "risk": 4.913218672873788,
          "risk_level": 10
         },
         {
          "correlation": 0.1,
          "num_assets": 11,
          "risk": 3.1480151018182974,
          "risk_level": 10
         },
         {
          "correlation": 0.2,
          "num_assets": 11,
          "risk": 3.160090479979791,
          "risk_level": 10
         },
         {
          "correlation": 0.3,
          "num_assets": 11,
          "risk": 3.4497557345709446,
          "risk_level": 10
         },
         {
          "correlation": 0.4,
          "num_assets": 11,
          "risk": 3.998331387100527,
          "risk_level": 10
         },
         {
          "correlation": 0.5,
          "num_assets": 11,
          "risk": 4.4159199447473485,
          "risk_level": 10
         },
         {
          "correlation": 0.6,
          "num_assets": 11,
          "risk": 4.81557079021083,
          "risk_level": 10
         },
         {
          "correlation": 0.1,
          "num_assets": 12,
          "risk": 3.0190758400140396,
          "risk_level": 10
         },
         {
          "correlation": 0.2,
          "num_assets": 12,
          "risk": 3.0377627799174944,
          "risk_level": 10
         },
         {
          "correlation": 0.3,
          "num_assets": 12,
          "risk": 3.3355215839439674,
          "risk_level": 10
         },
         {
          "correlation": 0.4,
          "num_assets": 12,
          "risk": 3.89862451020177,
          "risk_level": 10
         },
         {
          "correlation": 0.5,
          "num_assets": 12,
          "risk": 4.327224449912944,
          "risk_level": 10
         },
         {
          "correlation": 0.6,
          "num_assets": 12,
          "risk": 4.72831137564471,
          "risk_level": 10
         },
         {
          "correlation": 0.1,
          "num_assets": 13,
          "risk": 2.897666807402741,
          "risk_level": 10
         },
         {
          "correlation": 0.2,
          "num_assets": 13,
          "risk": 2.9354888549683302,
          "risk_level": 10
         },
         {
          "correlation": 0.3,
          "num_assets": 13,
          "risk": 3.2560843246617455,
          "risk_level": 10
         },
         {
          "correlation": 0.4,
          "num_assets": 13,
          "risk": 3.8108213720182396,
          "risk_level": 10
         },
         {
          "correlation": 0.5,
          "num_assets": 13,
          "risk": 4.260953233214405,
          "risk_level": 10
         },
         {
          "correlation": 0.6,
          "num_assets": 13,
          "risk": 4.662427240156596,
          "risk_level": 10
         },
         {
          "correlation": 0.1,
          "num_assets": 14,
          "risk": 2.81342258762098,
          "risk_level": 10
         },
         {
          "correlation": 0.2,
          "num_assets": 14,
          "risk": 2.8413954599364195,
          "risk_level": 10
         },
         {
          "correlation": 0.3,
          "num_assets": 14,
          "risk": 3.177222222558585,
          "risk_level": 10
         },
         {
          "correlation": 0.4,
          "num_assets": 14,
          "risk": 3.7304416087759744,
          "risk_level": 10
         },
         {
          "correlation": 0.5,
          "num_assets": 14,
          "risk": 4.196705936245261,
          "risk_level": 10
         },
         {
          "correlation": 0.6,
          "num_assets": 14,
          "risk": 4.61632272098039,
          "risk_level": 10
         },
         {
          "correlation": 0.1,
          "num_assets": 15,
          "risk": 2.730283521696707,
          "risk_level": 10
         },
         {
          "correlation": 0.2,
          "num_assets": 15,
          "risk": 2.7646332823573254,
          "risk_level": 10
         },
         {
          "correlation": 0.3,
          "num_assets": 15,
          "risk": 3.0959859060014834,
          "risk_level": 10
         },
         {
          "correlation": 0.4,
          "num_assets": 15,
          "risk": 3.6703608001213603,
          "risk_level": 10
         },
         {
          "correlation": 0.5,
          "num_assets": 15,
          "risk": 4.132725985834081,
          "risk_level": 10
         },
         {
          "correlation": 0.6,
          "num_assets": 15,
          "risk": 4.553285327904797,
          "risk_level": 10
         },
         {
          "correlation": 0.1,
          "num_assets": 16,
          "risk": 2.652913759754211,
          "risk_level": 10
         },
         {
          "correlation": 0.2,
          "num_assets": 16,
          "risk": 2.6877685170119294,
          "risk_level": 10
         },
         {
          "correlation": 0.3,
          "num_assets": 16,
          "risk": 3.0357252746926853,
          "risk_level": 10
         },
         {
          "correlation": 0.4,
          "num_assets": 16,
          "risk": 3.616587030252377,
          "risk_level": 10
         },
         {
          "correlation": 0.5,
          "num_assets": 16,
          "risk": 4.085111205425836,
          "risk_level": 10
         },
         {
          "correlation": 0.6,
          "num_assets": 16,
          "risk": 4.512655085137176,
          "risk_level": 10
         },
         {
          "correlation": 0.1,
          "num_assets": 17,
          "risk": 2.5801264503394274,
          "risk_level": 10
         },
         {
          "correlation": 0.2,
          "num_assets": 17,
          "risk": 2.6183305756441313,
          "risk_level": 10
         },
         {
          "correlation": 0.3,
          "num_assets": 17,
          "risk": 2.9870482648490317,
          "risk_level": 10
         },
         {
          "correlation": 0.4,
          "num_assets": 17,
          "risk": 3.5598094149637753,
          "risk_level": 10
         },
         {
          "correlation": 0.5,
          "num_assets": 17,
          "risk": 4.042421869908264,
          "risk_level": 10
         },
         {
          "correlation": 0.6,
          "num_assets": 17,
          "risk": 4.471251892034969,
          "risk_level": 10
         },
         {
          "correlation": 0.1,
          "num_assets": 18,
          "risk": 2.523668438966676,
          "risk_level": 10
         },
         {
          "correlation": 0.2,
          "num_assets": 18,
          "risk": 2.5427584011206132,
          "risk_level": 10
         },
         {
          "correlation": 0.3,
          "num_assets": 18,
          "risk": 2.9288819814980362,
          "risk_level": 10
         },
         {
          "correlation": 0.4,
          "num_assets": 18,
          "risk": 3.5227724812521366,
          "risk_level": 10
         },
         {
          "correlation": 0.5,
          "num_assets": 18,
          "risk": 4.0090179073726,
          "risk_level": 10
         },
         {
          "correlation": 0.6,
          "num_assets": 18,
          "risk": 4.434923928239129,
          "risk_level": 10
         },
         {
          "correlation": 0.1,
          "num_assets": 19,
          "risk": 2.467555000842503,
          "risk_level": 10
         },
         {
          "correlation": 0.2,
          "num_assets": 19,
          "risk": 2.4819761766417385,
          "risk_level": 10
         },
         {
          "correlation": 0.3,
          "num_assets": 19,
          "risk": 2.870201918789035,
          "risk_level": 10
         },
         {
          "correlation": 0.4,
          "num_assets": 19,
          "risk": 3.4773251684018467,
          "risk_level": 10
         },
         {
          "correlation": 0.5,
          "num_assets": 19,
          "risk": 3.9796703866602225,
          "risk_level": 10
         },
         {
          "correlation": 0.6,
          "num_assets": 19,
          "risk": 4.402858129509359,
          "risk_level": 10
         },
         {
          "correlation": 0.1,
          "num_assets": 20,
          "risk": 2.3441772508003775,
          "risk_level": 10
         },
         {
          "correlation": 0.2,
          "num_assets": 20,
          "risk": 2.3578773678096514,
          "risk_level": 10
         },
         {
          "correlation": 0.3,
          "num_assets": 20,
          "risk": 2.7266918228495833,
          "risk_level": 10
         },
         {
          "correlation": 0.4,
          "num_assets": 20,
          "risk": 3.303458909981754,
          "risk_level": 10
         },
         {
          "correlation": 0.5,
          "num_assets": 20,
          "risk": 3.780686867327212,
          "risk_level": 10
         },
         {
          "correlation": 0.6,
          "num_assets": 20,
          "risk": 4.182715223033891,
          "risk_level": 10
         }
        ]
       },
       "layer": [
        {
         "data": {
          "name": "data-2e6ae5e2adabb7e875c2f379a6d842e5"
         },
         "encoding": {
          "color": {
           "field": "correlation",
           "scale": {
            "scheme": "set2"
           },
           "type": "nominal"
          },
          "opacity": {
           "value": 0
          },
          "x": {
           "axis": {
            "title": "Number of Assets"
           },
           "field": "num_assets",
           "type": "quantitative"
          },
          "y": {
           "axis": {
            "title": "Risk %"
           },
           "field": "risk",
           "type": "quantitative"
          }
         },
         "mark": "circle",
         "selection": {
          "selector001": {
           "empty": "all",
           "fields": [
            "correlation"
           ],
           "nearest": true,
           "on": "mouseover",
           "resolve": "global",
           "type": "single"
          }
         },
         "title": "Risk % by number of assets in portfolio",
         "width": 600
        },
        {
         "data": {
          "name": "data-2e6ae5e2adabb7e875c2f379a6d842e5"
         },
         "encoding": {
          "color": {
           "field": "correlation",
           "scale": {
            "scheme": "set2"
           },
           "type": "nominal"
          },
          "size": {
           "condition": {
            "selection": {
             "not": "selector001"
            },
            "value": 1
           },
           "value": 3
          },
          "tooltip": [
           {
            "field": "correlation",
            "type": "quantitative"
           }
          ],
          "x": {
           "axis": {
            "title": "Number of Assets"
           },
           "field": "num_assets",
           "type": "quantitative"
          },
          "y": {
           "axis": {
            "title": "Risk %"
           },
           "field": "risk",
           "type": "quantitative"
          }
         },
         "mark": "line"
        }
       ]
      },
      "image/png": "[encoded data removed]",
      "text/plain": [
       "<VegaLite 2 object>\n",
       "\n",
       "If you see this message, it means the renderer has not been properly enabled\n",
       "for the frontend that you are using. For more information, see\n",
       "https://altair-viz.github.io/user_guide/troubleshooting.html\n"
      ]
     },
     "execution_count": 6,
     "metadata": {},
     "output_type": "execute_result"
    }
   ],
   "source": [
    "plot_risk_level(simulated_data, 10)"
   ]
  },
  {
   "cell_type": "code",
   "execution_count": 7,
   "metadata": {},
   "outputs": [
    {
     "data": {
      "application/vnd.vegalite.v2+json": {
       "$schema": "https://vega.github.io/schema/vega-lite/v2.6.0.json",
       "config": {
        "view": {
         "height": 300,
         "width": 400
        }
       },
       "datasets": {
        "data-6f13e33bff392325c6b3859e80411ddc": [
         {
          "correlation": 0.1,
          "num_assets": 1,
          "risk": 6.9652352561295805,
          "risk_level": 7
         },
         {
          "correlation": 0.2,
          "num_assets": 1,
          "risk": 7.0080684422725845,
          "risk_level": 7
         },
         {
          "correlation": 0.3,
          "num_assets": 1,
          "risk": 7.119141035209649,
          "risk_level": 7
         },
         {
          "correlation": 0.4,
          "num_assets": 1,
          "risk": 7.233458596258936,
          "risk_level": 7
         },
         {
          "correlation": 0.5,
          "num_assets": 1,
          "risk": 7.548726704321907,
          "risk_level": 7
         },
         {
          "correlation": 0.6,
          "num_assets": 1,
          "risk": 7.680898798742837,
          "risk_level": 7
         },
         {
          "correlation": 0.1,
          "num_assets": 2,
          "risk": 4.907378692113488,
          "risk_level": 7
         },
         {
          "correlation": 0.2,
          "num_assets": 2,
          "risk": 4.943153503682993,
          "risk_level": 7
         },
         {
          "correlation": 0.3,
          "num_assets": 2,
          "risk": 5.132879320041414,
          "risk_level": 7
         },
         {
          "correlation": 0.4,
          "num_assets": 2,
          "risk": 5.359344954954819,
          "risk_level": 7
         },
         {
          "correlation": 0.5,
          "num_assets": 2,
          "risk": 5.660968770639672,
          "risk_level": 7
         },
         {
          "correlation": 0.6,
          "num_assets": 2,
          "risk": 5.828847003991574,
          "risk_level": 7
         },
         {
          "correlation": 0.1,
          "num_assets": 3,
          "risk": 4.0134418231787,
          "risk_level": 7
         },
         {
          "correlation": 0.2,
          "num_assets": 3,
          "risk": 4.0386063038589946,
          "risk_level": 7
         },
         {
          "correlation": 0.3,
          "num_assets": 3,
          "risk": 4.2353024216423965,
          "risk_level": 7
         },
         {
          "correlation": 0.4,
          "num_assets": 3,
          "risk": 4.578287982487671,
          "risk_level": 7
         },
         {
          "correlation": 0.5,
          "num_assets": 3,
          "risk": 4.817066054533567,
          "risk_level": 7
         },
         {
          "correlation": 0.6,
          "num_assets": 3,
          "risk": 5.080398658796929,
          "risk_level": 7
         },
         {
          "correlation": 0.1,
          "num_assets": 4,
          "risk": 3.5270452280043787,
          "risk_level": 7
         },
         {
          "correlation": 0.2,
          "num_assets": 4,
          "risk": 3.5125218630411488,
          "risk_level": 7
         },
         {
          "correlation": 0.3,
          "num_assets": 4,
          "risk": 3.7378794239998028,
          "risk_level": 7
         },
         {
          "correlation": 0.4,
          "num_assets": 4,
          "risk": 4.108944062197107,
          "risk_level": 7
         },
         {
          "correlation": 0.5,
          "num_assets": 4,
          "risk": 4.403013308855087,
          "risk_level": 7
         },
         {
          "correlation": 0.6,
          "num_assets": 4,
          "risk": 4.679276737633827,
          "risk_level": 7
         },
         {
          "correlation": 0.1,
          "num_assets": 5,
          "risk": 3.171338682091625,
          "risk_level": 7
         },
         {
          "correlation": 0.2,
          "num_assets": 5,
          "risk": 3.1600009333842096,
          "risk_level": 7
         },
         {
          "correlation": 0.3,
          "num_assets": 5,
          "risk": 3.425175185757403,
          "risk_level": 7
         },
         {
          "correlation": 0.4,
          "num_assets": 5,
          "risk": 3.7966789981801425,
          "risk_level": 7
         },
         {
          "correlation": 0.5,
          "num_assets": 5,
          "risk": 4.142535477704163,
          "risk_level": 7
         },
         {
          "correlation": 0.6,
          "num_assets": 5,
          "risk": 4.415515136725675,
          "risk_level": 7
         },
         {
          "correlation": 0.1,
          "num_assets": 6,
          "risk": 2.913060275152046,
          "risk_level": 7
         },
         {
          "correlation": 0.2,
          "num_assets": 6,
          "risk": 2.905737133277695,
          "risk_level": 7
         },
         {
          "correlation": 0.3,
          "num_assets": 6,
          "risk": 3.1677137240768616,
          "risk_level": 7
         },
         {
          "correlation": 0.4,
          "num_assets": 6,
          "risk": 3.5950024177083932,
          "risk_level": 7
         },
         {
          "correlation": 0.5,
          "num_assets": 6,
          "risk": 3.9394900188995257,
          "risk_level": 7
         },
         {
          "correlation": 0.6,
          "num_assets": 6,
          "risk": 4.227697310765776,
          "risk_level": 7
         },
         {
          "correlation": 0.1,
          "num_assets": 7,
          "risk": 2.7188877499968007,
          "risk_level": 7
         },
         {
          "correlation": 0.2,
          "num_assets": 7,
          "risk": 2.714972453427522,
          "risk_level": 7
         },
         {
          "correlation": 0.3,
          "num_assets": 7,
          "risk": 2.973045324356375,
          "risk_level": 7
         },
         {
          "correlation": 0.4,
          "num_assets": 7,
          "risk": 3.4414859139988367,
          "risk_level": 7
         },
         {
          "correlation": 0.5,
          "num_assets": 7,
          "risk": 3.794167381763991,
          "risk_level": 7
         },
         {
          "correlation": 0.6,
          "num_assets": 7,
          "risk": 4.089940688359465,
          "risk_level": 7
         },
         {
          "correlation": 0.1,
          "num_assets": 8,
          "risk": 2.5467588625217097,
          "risk_level": 7
         },
         {
          "correlation": 0.2,
          "num_assets": 8,
          "risk": 2.5623155527208863,
          "risk_level": 7
         },
         {
          "correlation": 0.3,
          "num_assets": 8,
          "risk": 2.828480942130831,
          "risk_level": 7
         },
         {
          "correlation": 0.4,
          "num_assets": 8,
          "risk": 3.318417076282554,
          "risk_level": 7
         },
         {
          "correlation": 0.5,
          "num_assets": 8,
          "risk": 3.6920398553211777,
          "risk_level": 7
         },
         {
          "correlation": 0.6,
          "num_assets": 8,
          "risk": 3.985580518466049,
          "risk_level": 7
         },
         {
          "correlation": 0.1,
          "num_assets": 9,
          "risk": 2.407393502025679,
          "risk_level": 7
         },
         {
          "correlation": 0.2,
          "num_assets": 9,
          "risk": 2.4252075532692525,
          "risk_level": 7
         },
         {
          "correlation": 0.3,
          "num_assets": 9,
          "risk": 2.7102502470739527,
          "risk_level": 7
         },
         {
          "correlation": 0.4,
          "num_assets": 9,
          "risk": 3.207920018918883,
          "risk_level": 7
         },
         {
          "correlation": 0.5,
          "num_assets": 9,
          "risk": 3.5954534394197473,
          "risk_level": 7
         },
         {
          "correlation": 0.6,
          "num_assets": 9,
          "risk": 3.902355951448258,
          "risk_level": 7
         },
         {
          "correlation": 0.1,
          "num_assets": 10,
          "risk": 2.2972931678226804,
          "risk_level": 7
         },
         {
          "correlation": 0.2,
          "num_assets": 10,
          "risk": 2.303360182129364,
          "risk_level": 7
         },
         {
          "correlation": 0.3,
          "num_assets": 10,
          "risk": 2.6068877133095705,
          "risk_level": 7
         },
         {
          "correlation": 0.4,
          "num_assets": 10,
          "risk": 3.1239029399206335,
          "risk_level": 7
         },
         {
          "correlation": 0.5,
          "num_assets": 10,
          "risk": 3.528679819437312,
          "risk_level": 7
         },
         {
          "correlation": 0.6,
          "num_assets": 10,
          "risk": 3.8411742334738337,
          "risk_level": 7
         },
         {
          "correlation": 0.1,
          "num_assets": 11,
          "risk": 2.198746502999237,
          "risk_level": 7
         },
         {
          "correlation": 0.2,
          "num_assets": 11,
          "risk": 2.202376114958512,
          "risk_level": 7
         },
         {
          "correlation": 0.3,
          "num_assets": 11,
          "risk": 2.5295428991958357,
          "risk_level": 7
         },
         {
          "correlation": 0.4,
          "num_assets": 11,
          "risk": 3.0490167404178274,
          "risk_level": 7
         },
         {
          "correlation": 0.5,
          "num_assets": 11,
          "risk": 3.477971613682266,
          "risk_level": 7
         },
         {
          "correlation": 0.6,
          "num_assets": 11,
          "risk": 3.784649121220432,
          "risk_level": 7
         },
         {
          "correlation": 0.1,
          "num_assets": 12,
          "risk": 2.117022823425736,
          "risk_level": 7
         },
         {
          "correlation": 0.2,
          "num_assets": 12,
          "risk": 2.118923937299456,
          "risk_level": 7
         },
         {
          "correlation": 0.3,
          "num_assets": 12,
          "risk": 2.463818858937661,
          "risk_level": 7
         },
         {
          "correlation": 0.4,
          "num_assets": 12,
          "risk": 2.986401154419054,
          "risk_level": 7
         },
         {
          "correlation": 0.5,
          "num_assets": 12,
          "risk": 3.424807505135022,
          "risk_level": 7
         },
         {
          "correlation": 0.6,
          "num_assets": 12,
          "risk": 3.7440967933524987,
          "risk_level": 7
         },
         {
          "correlation": 0.1,
          "num_assets": 13,
          "risk": 2.0529014169464497,
          "risk_level": 7
         },
         {
          "correlation": 0.2,
          "num_assets": 13,
          "risk": 2.042183456642435,
          "risk_level": 7
         },
         {
          "correlation": 0.3,
          "num_assets": 13,
          "risk": 2.392170509346404,
          "risk_level": 7
         },
         {
          "correlation": 0.4,
          "num_assets": 13,
          "risk": 2.942436844190817,
          "risk_level": 7
         },
         {
          "correlation": 0.5,
          "num_assets": 13,
          "risk": 3.3809736166247415,
          "risk_level": 7
         },
         {
          "correlation": 0.6,
          "num_assets": 13,
          "risk": 3.703756888650969,
          "risk_level": 7
         },
         {
          "correlation": 0.1,
          "num_assets": 14,
          "risk": 1.9886007192536033,
          "risk_level": 7
         },
         {
          "correlation": 0.2,
          "num_assets": 14,
          "risk": 1.9696816542799103,
          "risk_level": 7
         },
         {
          "correlation": 0.3,
          "num_assets": 14,
          "risk": 2.3378265770938267,
          "risk_level": 7
         },
         {
          "correlation": 0.4,
          "num_assets": 14,
          "risk": 2.901512789782128,
          "risk_level": 7
         },
         {
          "correlation": 0.5,
          "num_assets": 14,
          "risk": 3.346740065397075,
          "risk_level": 7
         },
         {
          "correlation": 0.6,
          "num_assets": 14,
          "risk": 3.6747243749734197,
          "risk_level": 7
         },
         {
          "correlation": 0.1,
          "num_assets": 15,
          "risk": 1.929538878819994,
          "risk_level": 7
         },
         {
          "correlation": 0.2,
          "num_assets": 15,
          "risk": 1.9162510848496113,
          "risk_level": 7
         },
         {
          "correlation": 0.3,
          "num_assets": 15,
          "risk": 2.293994312792662,
          "risk_level": 7
         },
         {
          "correlation": 0.4,
          "num_assets": 15,
          "risk": 2.85681298138975,
          "risk_level": 7
         },
         {
          "correlation": 0.5,
          "num_assets": 15,
          "risk": 3.309252359227597,
          "risk_level": 7
         },
         {
          "correlation": 0.6,
          "num_assets": 15,
          "risk": 3.6399024601107843,
          "risk_level": 7
         },
         {
          "correlation": 0.1,
          "num_assets": 16,
          "risk": 1.8731898406589598,
          "risk_level": 7
         },
         {
          "correlation": 0.2,
          "num_assets": 16,
          "risk": 1.8655575063353054,
          "risk_level": 7
         },
         {
          "correlation": 0.3,
          "num_assets": 16,
          "risk": 2.2518744640224444,
          "risk_level": 7
         },
         {
          "correlation": 0.4,
          "num_assets": 16,
          "risk": 2.820898756075345,
          "risk_level": 7
         },
         {
          "correlation": 0.5,
          "num_assets": 16,
          "risk": 3.2758742676683736,
          "risk_level": 7
         },
         {
          "correlation": 0.6,
          "num_assets": 16,
          "risk": 3.6148185383650313,
          "risk_level": 7
         },
         {
          "correlation": 0.1,
          "num_assets": 17,
          "risk": 1.828438055859563,
          "risk_level": 7
         },
         {
          "correlation": 0.2,
          "num_assets": 17,
          "risk": 1.8168522260094275,
          "risk_level": 7
         },
         {
          "correlation": 0.3,
          "num_assets": 17,
          "risk": 2.2077810592696228,
          "risk_level": 7
         },
         {
          "correlation": 0.4,
          "num_assets": 17,
          "risk": 2.7957697175746854,
          "risk_level": 7
         },
         {
          "correlation": 0.5,
          "num_assets": 17,
          "risk": 3.252474928190278,
          "risk_level": 7
         },
         {
          "correlation": 0.6,
          "num_assets": 17,
          "risk": 3.5803999450551633,
          "risk_level": 7
         },
         {
          "correlation": 0.1,
          "num_assets": 18,
          "risk": 1.7841208826582657,
          "risk_level": 7
         },
         {
          "correlation": 0.2,
          "num_assets": 18,
          "risk": 1.7746448125322856,
          "risk_level": 7
         },
         {
          "correlation": 0.3,
          "num_assets": 18,
          "risk": 2.173598636437158,
          "risk_level": 7
         },
         {
          "correlation": 0.4,
          "num_assets": 18,
          "risk": 2.764347181107636,
          "risk_level": 7
         },
         {
          "correlation": 0.5,
          "num_assets": 18,
          "risk": 3.2332454651593556,
          "risk_level": 7
         },
         {
          "correlation": 0.6,
          "num_assets": 18,
          "risk": 3.5631337668464163,
          "risk_level": 7
         },
         {
          "correlation": 0.1,
          "num_assets": 19,
          "risk": 1.7328918789132628,
          "risk_level": 7
         },
         {
          "correlation": 0.2,
          "num_assets": 19,
          "risk": 1.7329467083321166,
          "risk_level": 7
         },
         {
          "correlation": 0.3,
          "num_assets": 19,
          "risk": 2.139193965100358,
          "risk_level": 7
         },
         {
          "correlation": 0.4,
          "num_assets": 19,
          "risk": 2.740913367828315,
          "risk_level": 7
         },
         {
          "correlation": 0.5,
          "num_assets": 19,
          "risk": 3.2090870087837082,
          "risk_level": 7
         },
         {
          "correlation": 0.6,
          "num_assets": 19,
          "risk": 3.5434426912857577,
          "risk_level": 7
         },
         {
          "correlation": 0.1,
          "num_assets": 20,
          "risk": 1.6462472849675998,
          "risk_level": 7
         },
         {
          "correlation": 0.2,
          "num_assets": 20,
          "risk": 1.6462993729155109,
          "risk_level": 7
         },
         {
          "correlation": 0.3,
          "num_assets": 20,
          "risk": 2.03223426684534,
          "risk_level": 7
         },
         {
          "correlation": 0.4,
          "num_assets": 20,
          "risk": 2.6038676994368983,
          "risk_level": 7
         },
         {
          "correlation": 0.5,
          "num_assets": 20,
          "risk": 3.048632658344523,
          "risk_level": 7
         },
         {
          "correlation": 0.6,
          "num_assets": 20,
          "risk": 3.36627055672147,
          "risk_level": 7
         }
        ]
       },
       "layer": [
        {
         "data": {
          "name": "data-6f13e33bff392325c6b3859e80411ddc"
         },
         "encoding": {
          "color": {
           "field": "correlation",
           "scale": {
            "scheme": "set2"
           },
           "type": "nominal"
          },
          "opacity": {
           "value": 0
          },
          "x": {
           "axis": {
            "title": "Number of Assets"
           },
           "field": "num_assets",
           "type": "quantitative"
          },
          "y": {
           "axis": {
            "title": "Risk %"
           },
           "field": "risk",
           "type": "quantitative"
          }
         },
         "mark": "circle",
         "selection": {
          "selector002": {
           "empty": "all",
           "fields": [
            "correlation"
           ],
           "nearest": true,
           "on": "mouseover",
           "resolve": "global",
           "type": "single"
          }
         },
         "title": "Risk % by number of assets in portfolio",
         "width": 600
        },
        {
         "data": {
          "name": "data-6f13e33bff392325c6b3859e80411ddc"
         },
         "encoding": {
          "color": {
           "field": "correlation",
           "scale": {
            "scheme": "set2"
           },
           "type": "nominal"
          },
          "size": {
           "condition": {
            "selection": {
             "not": "selector002"
            },
            "value": 1
           },
           "value": 3
          },
          "tooltip": [
           {
            "field": "correlation",
            "type": "quantitative"
           }
          ],
          "x": {
           "axis": {
            "title": "Number of Assets"
           },
           "field": "num_assets",
           "type": "quantitative"
          },
          "y": {
           "axis": {
            "title": "Risk %"
           },
           "field": "risk",
           "type": "quantitative"
          }
         },
         "mark": "line"
        }
       ]
      },
      "image/png": "[encoded data removed]",
      "text/plain": [
       "<VegaLite 2 object>\n",
       "\n",
       "If you see this message, it means the renderer has not been properly enabled\n",
       "for the frontend that you are using. For more information, see\n",
       "https://altair-viz.github.io/user_guide/troubleshooting.html\n"
      ]
     },
     "execution_count": 7,
     "metadata": {},
     "output_type": "execute_result"
    }
   ],
   "source": [
    "plot_risk_level(simulated_data, 7)"
   ]
  },
  {
   "cell_type": "code",
   "execution_count": null,
   "metadata": {},
   "outputs": [],
   "source": []
  }
 ],
 "metadata": {
  "kernelspec": {
   "display_name": "Python 3",
   "language": "python",
   "name": "python3"
  },
  "language_info": {
   "codemirror_mode": {
    "name": "ipython",
    "version": 3
   },
   "file_extension": ".py",
   "mimetype": "text/x-python",
   "name": "python",
   "nbconvert_exporter": "python",
   "pygments_lexer": "ipython3",
   "version": "3.6.7"
  }
 },
 "nbformat": 4,
 "nbformat_minor": 2
}
