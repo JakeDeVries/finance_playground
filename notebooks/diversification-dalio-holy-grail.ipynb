{
 "cells": [
  {
   "cell_type": "markdown",
   "metadata": {},
   "source": [
    "# Ray Dalio's Holy Grail"
   ]
  },
  {
   "cell_type": "markdown",
   "metadata": {},
   "source": [
    "Reducing return/risk ratio through diversification.\n",
    "\n",
    "From https://www.investopedia.com/video/play/ray-dalio-his-portfolio-holy-grail/"
   ]
  },
  {
   "cell_type": "code",
   "execution_count": 1,
   "metadata": {},
   "outputs": [],
   "source": [
    "%config InlineBackend.figure_format = \"retina\"\n",
    "%matplotlib inline\n",
    "\n",
    "import numpy as np\n",
    "import pandas as pd\n",
    "import matplotlib.pyplot as plt\n",
    "import seaborn as sns\n",
    "import altair as alt\n",
    "\n",
    "sns.set()"
   ]
  },
  {
   "cell_type": "code",
   "execution_count": 304,
   "metadata": {},
   "outputs": [],
   "source": [
    "# Alternative implementation using Cholesky decomp\n",
    "from scipy.linalg import cholesky\n",
    "\n",
    "def _correlated_streams(n, risk, corr):\n",
    "    # Assuming 10% average return\n",
    "    mean = 10\n",
    "    num_samples = 10_000\n",
    "\n",
    "    streams = np.random.normal(loc=mean, scale=risk, size=(num_samples, n))\n",
    "    \n",
    "    corr_mat = np.diag(np.ones(n))\n",
    "    corr_mat[0] = corr_mat[:,0] = corr\n",
    "    corr_mat[0,0] = 1\n",
    "    print(corr_mat)\n",
    "    upper_cholesky = cholesky(corr_mat)\n",
    "    \n",
    "    return streams @ upper_cholesky"
   ]
  },
  {
   "cell_type": "code",
   "execution_count": 140,
   "metadata": {},
   "outputs": [],
   "source": [
    "# Alternative implementation\n",
    "\n",
    "def _correlated_sample(sample, corr):\n",
    "    var = corr**2\n",
    "    error_term = 1 - var\n",
    "    std = np.sqrt(error_term)\n",
    "    rvs = np.random.normal(loc=0, scale=std, size=len(sample))\n",
    "    \n",
    "    sample_mean, sample_std = sample.mean(), sample.std()\n",
    "    normalized = (sample - sample_mean) / sample_std\n",
    "    \n",
    "    return (corr * normalized + rvs) * sample_std + sample_mean"
   ]
  },
  {
   "cell_type": "code",
   "execution_count": 141,
   "metadata": {},
   "outputs": [],
   "source": [
    "# Alternative impl\n",
    "def _correlated_streams(n, risk, corr):\n",
    "    # Assume average anual return of %10\n",
    "    benchmark = np.random.normal(loc=10, scale=risk, size=10000)\n",
    "    streams = np.array([correlated_sample(benchmark, corr) for _ in range(n)])\n",
    "\n",
    "    return (benchmark, streams)"
   ]
  },
  {
   "cell_type": "code",
   "execution_count": 243,
   "metadata": {},
   "outputs": [],
   "source": [
    "def correlated_streams(n, risk, corr):\n",
    "    # Assuming 10% average return\n",
    "    # Benchmark avg return 10%, avg std %15\n",
    "    means = np.full(n, 10, dtype=np.dtype(\"d\"))\n",
    "    bench_std = 15\n",
    "    num_samples = 10_000\n",
    "    \n",
    "    corr_mat = np.diag(np.full(n, 9.9, dtype=np.dtype(\"d\")))\n",
    "    corr_mat += 0.1\n",
    "    corr_mat = corr_mat / 10\n",
    "    corr_mat[0] = corr_mat[:,0] = corr\n",
    "    corr_mat[0,0] = 1\n",
    "    stds = np.full(n, risk)\n",
    "    stds[0] = bench_std\n",
    "    stds_mat = np.diag(stds)\n",
    "    cov_mat = stds_mat @ corr_mat @ stds_mat\n",
    "    \n",
    "    streams = np.random.multivariate_normal(means, cov_mat, size=num_samples, tol=0.01)\n",
    "    \n",
    "    return (streams[:,0], streams[:,1:])"
   ]
  },
  {
   "cell_type": "code",
   "execution_count": 235,
   "metadata": {},
   "outputs": [],
   "source": [
    "def aggregate_risk(return_streams, n):\n",
    "    \"\"\"Returns the pooled risk (std) of the `n` first streams \n",
    "    in `return_streams`\n",
    "    \"\"\"\n",
    "    aggregate_returns = np.sum(return_streams[:,:n], axis=1) / n\n",
    "    return aggregate_returns.std()"
   ]
  },
  {
   "cell_type": "code",
   "execution_count": 244,
   "metadata": {},
   "outputs": [
    {
     "name": "stderr",
     "output_type": "stream",
     "text": [
      "/usr/local/anaconda3/lib/python3.6/site-packages/ipykernel_launcher.py:18: RuntimeWarning: covariance is not symmetric positive-semidefinite.\n"
     ]
    }
   ],
   "source": [
    "assets = range(1, 21)\n",
    "risk_levels = range(1, 15)\n",
    "index = pd.MultiIndex.from_product([risk_levels, assets], names=[\"risk_level\", \"num_assets\"])\n",
    "\n",
    "simulated_data = pd.DataFrame(index=index)\n",
    "\n",
    "for risk in risk_levels:\n",
    "    for corr in np.arange(0.1, .7, 0.1):\n",
    "        benchmark, return_streams = correlated_streams(max_assets, risk, corr)\n",
    "        risk_level = np.zeros(max_assets)\n",
    "        for num_assets in assets:\n",
    "            risk_level[num_assets-1] = aggregate_risk(return_streams, num_assets)\n",
    "        simulated_data.loc[(risk, ), round(corr, 1)] = risk_level\n",
    "        \n",
    "simulated_data.columns.names = [\"correlation\"]"
   ]
  },
  {
   "cell_type": "code",
   "execution_count": 277,
   "metadata": {},
   "outputs": [
    {
     "data": {
      "text/html": [
       "<div>\n",
       "<style scoped>\n",
       "    .dataframe tbody tr th:only-of-type {\n",
       "        vertical-align: middle;\n",
       "    }\n",
       "\n",
       "    .dataframe tbody tr th {\n",
       "        vertical-align: top;\n",
       "    }\n",
       "\n",
       "    .dataframe thead th {\n",
       "        text-align: right;\n",
       "    }\n",
       "</style>\n",
       "<table border=\"1\" class=\"dataframe\">\n",
       "  <thead>\n",
       "    <tr style=\"text-align: right;\">\n",
       "      <th></th>\n",
       "      <th>risk_level</th>\n",
       "      <th>num_assets</th>\n",
       "      <th>correlation</th>\n",
       "      <th>risk</th>\n",
       "    </tr>\n",
       "  </thead>\n",
       "  <tbody>\n",
       "    <tr>\n",
       "      <th>0</th>\n",
       "      <td>10</td>\n",
       "      <td>1</td>\n",
       "      <td>0.1</td>\n",
       "      <td>10.015191</td>\n",
       "    </tr>\n",
       "    <tr>\n",
       "      <th>1</th>\n",
       "      <td>10</td>\n",
       "      <td>1</td>\n",
       "      <td>0.2</td>\n",
       "      <td>9.928593</td>\n",
       "    </tr>\n",
       "    <tr>\n",
       "      <th>2</th>\n",
       "      <td>10</td>\n",
       "      <td>1</td>\n",
       "      <td>0.3</td>\n",
       "      <td>9.979866</td>\n",
       "    </tr>\n",
       "    <tr>\n",
       "      <th>3</th>\n",
       "      <td>10</td>\n",
       "      <td>1</td>\n",
       "      <td>0.4</td>\n",
       "      <td>10.432665</td>\n",
       "    </tr>\n",
       "    <tr>\n",
       "      <th>4</th>\n",
       "      <td>10</td>\n",
       "      <td>1</td>\n",
       "      <td>0.5</td>\n",
       "      <td>10.490940</td>\n",
       "    </tr>\n",
       "  </tbody>\n",
       "</table>\n",
       "</div>"
      ],
      "text/plain": [
       "   risk_level  num_assets  correlation       risk\n",
       "0          10           1          0.1  10.015191\n",
       "1          10           1          0.2   9.928593\n",
       "2          10           1          0.3   9.979866\n",
       "3          10           1          0.4  10.432665\n",
       "4          10           1          0.5  10.490940"
      ]
     },
     "execution_count": 277,
     "metadata": {},
     "output_type": "execute_result"
    }
   ],
   "source": [
    "subset = simulated_data.query(\"risk_level == 10\")\n",
    "stacked = subset.stack().reset_index(name=\"risk\")\n",
    "stacked.head()"
   ]
  },
  {
   "cell_type": "code",
   "execution_count": 276,
   "metadata": {},
   "outputs": [
    {
     "data": {
      "application/vnd.vegalite.v2+json": {
       "$schema": "https://vega.github.io/schema/vega-lite/v2.6.0.json",
       "config": {
        "view": {
         "height": 300,
         "width": 400
        }
       },
       "datasets": {
        "data-dd33e2b4685fc9c205ceaaaebef3168d": [
         {
          "correlation": 0.1,
          "num_assets": 1,
          "risk": 10.015191125768279,
          "risk_level": 10
         },
         {
          "correlation": 0.2,
          "num_assets": 1,
          "risk": 9.92859339817255,
          "risk_level": 10
         },
         {
          "correlation": 0.3,
          "num_assets": 1,
          "risk": 9.979865787050207,
          "risk_level": 10
         },
         {
          "correlation": 0.4,
          "num_assets": 1,
          "risk": 10.432664770527717,
          "risk_level": 10
         },
         {
          "correlation": 0.5,
          "num_assets": 1,
          "risk": 10.490939611342391,
          "risk_level": 10
         },
         {
          "correlation": 0.6,
          "num_assets": 1,
          "risk": 10.691750320035172,
          "risk_level": 10
         },
         {
          "correlation": 0.1,
          "num_assets": 2,
          "risk": 7.144527051002438,
          "risk_level": 10
         },
         {
          "correlation": 0.2,
          "num_assets": 2,
          "risk": 7.05456320776205,
          "risk_level": 10
         },
         {
          "correlation": 0.3,
          "num_assets": 2,
          "risk": 7.219347095684281,
          "risk_level": 10
         },
         {
          "correlation": 0.4,
          "num_assets": 2,
          "risk": 7.55975661979524,
          "risk_level": 10
         },
         {
          "correlation": 0.5,
          "num_assets": 2,
          "risk": 7.8215214721907245,
          "risk_level": 10
         },
         {
          "correlation": 0.6,
          "num_assets": 2,
          "risk": 8.070932052794884,
          "risk_level": 10
         },
         {
          "correlation": 0.1,
          "num_assets": 3,
          "risk": 5.882722184710116,
          "risk_level": 10
         },
         {
          "correlation": 0.2,
          "num_assets": 3,
          "risk": 5.8487303718407055,
          "risk_level": 10
         },
         {
          "correlation": 0.3,
          "num_assets": 3,
          "risk": 6.035082984720423,
          "risk_level": 10
         },
         {
          "correlation": 0.4,
          "num_assets": 3,
          "risk": 6.401232337549396,
          "risk_level": 10
         },
         {
          "correlation": 0.5,
          "num_assets": 3,
          "risk": 6.645793402587036,
          "risk_level": 10
         },
         {
          "correlation": 0.6,
          "num_assets": 3,
          "risk": 6.896262562600893,
          "risk_level": 10
         },
         {
          "correlation": 0.1,
          "num_assets": 4,
          "risk": 5.112765791742191,
          "risk_level": 10
         },
         {
          "correlation": 0.2,
          "num_assets": 4,
          "risk": 5.062965009888909,
          "risk_level": 10
         },
         {
          "correlation": 0.3,
          "num_assets": 4,
          "risk": 5.308625517305483,
          "risk_level": 10
         },
         {
          "correlation": 0.4,
          "num_assets": 4,
          "risk": 5.696579869950081,
          "risk_level": 10
         },
         {
          "correlation": 0.5,
          "num_assets": 4,
          "risk": 6.000870811922564,
          "risk_level": 10
         },
         {
          "correlation": 0.6,
          "num_assets": 4,
          "risk": 6.222094795879174,
          "risk_level": 10
         },
         {
          "correlation": 0.1,
          "num_assets": 5,
          "risk": 4.624852146376379,
          "risk_level": 10
         },
         {
          "correlation": 0.2,
          "num_assets": 5,
          "risk": 4.544451069441947,
          "risk_level": 10
         },
         {
          "correlation": 0.3,
          "num_assets": 5,
          "risk": 4.803132901515133,
          "risk_level": 10
         },
         {
          "correlation": 0.4,
          "num_assets": 5,
          "risk": 5.211723045027957,
          "risk_level": 10
         },
         {
          "correlation": 0.5,
          "num_assets": 5,
          "risk": 5.573220026635002,
          "risk_level": 10
         },
         {
          "correlation": 0.6,
          "num_assets": 5,
          "risk": 5.8550141092890415,
          "risk_level": 10
         },
         {
          "correlation": 0.1,
          "num_assets": 6,
          "risk": 4.235596321450711,
          "risk_level": 10
         },
         {
          "correlation": 0.2,
          "num_assets": 6,
          "risk": 4.164495589471323,
          "risk_level": 10
         },
         {
          "correlation": 0.3,
          "num_assets": 6,
          "risk": 4.445303256959081,
          "risk_level": 10
         },
         {
          "correlation": 0.4,
          "num_assets": 6,
          "risk": 4.872759999189772,
          "risk_level": 10
         },
         {
          "correlation": 0.5,
          "num_assets": 6,
          "risk": 5.282270470945787,
          "risk_level": 10
         },
         {
          "correlation": 0.6,
          "num_assets": 6,
          "risk": 5.594866517441743,
          "risk_level": 10
         },
         {
          "correlation": 0.1,
          "num_assets": 7,
          "risk": 3.9377835724111465,
          "risk_level": 10
         },
         {
          "correlation": 0.2,
          "num_assets": 7,
          "risk": 3.8754677314379538,
          "risk_level": 10
         },
         {
          "correlation": 0.3,
          "num_assets": 7,
          "risk": 4.166091279697078,
          "risk_level": 10
         },
         {
          "correlation": 0.4,
          "num_assets": 7,
          "risk": 4.616163638490669,
          "risk_level": 10
         },
         {
          "correlation": 0.5,
          "num_assets": 7,
          "risk": 5.047462143695833,
          "risk_level": 10
         },
         {
          "correlation": 0.6,
          "num_assets": 7,
          "risk": 5.373804934622116,
          "risk_level": 10
         },
         {
          "correlation": 0.1,
          "num_assets": 8,
          "risk": 3.6945654703832815,
          "risk_level": 10
         },
         {
          "correlation": 0.2,
          "num_assets": 8,
          "risk": 3.6324502513954595,
          "risk_level": 10
         },
         {
          "correlation": 0.3,
          "num_assets": 8,
          "risk": 3.9334504777468657,
          "risk_level": 10
         },
         {
          "correlation": 0.4,
          "num_assets": 8,
          "risk": 4.442789986491154,
          "risk_level": 10
         },
         {
          "correlation": 0.5,
          "num_assets": 8,
          "risk": 4.821742229795999,
          "risk_level": 10
         },
         {
          "correlation": 0.6,
          "num_assets": 8,
          "risk": 5.2021957037029445,
          "risk_level": 10
         },
         {
          "correlation": 0.1,
          "num_assets": 9,
          "risk": 3.5132743349752493,
          "risk_level": 10
         },
         {
          "correlation": 0.2,
          "num_assets": 9,
          "risk": 3.4312070264129955,
          "risk_level": 10
         },
         {
          "correlation": 0.3,
          "num_assets": 9,
          "risk": 3.7586293390961956,
          "risk_level": 10
         },
         {
          "correlation": 0.4,
          "num_assets": 9,
          "risk": 4.265138709755879,
          "risk_level": 10
         },
         {
          "correlation": 0.5,
          "num_assets": 9,
          "risk": 4.674046917656029,
          "risk_level": 10
         },
         {
          "correlation": 0.6,
          "num_assets": 9,
          "risk": 5.071199061934851,
          "risk_level": 10
         },
         {
          "correlation": 0.1,
          "num_assets": 10,
          "risk": 3.3562028678565947,
          "risk_level": 10
         },
         {
          "correlation": 0.2,
          "num_assets": 10,
          "risk": 3.2779097375875708,
          "risk_level": 10
         },
         {
          "correlation": 0.3,
          "num_assets": 10,
          "risk": 3.611216758759797,
          "risk_level": 10
         },
         {
          "correlation": 0.4,
          "num_assets": 10,
          "risk": 4.133175653992652,
          "risk_level": 10
         },
         {
          "correlation": 0.5,
          "num_assets": 10,
          "risk": 4.543361354941101,
          "risk_level": 10
         },
         {
          "correlation": 0.6,
          "num_assets": 10,
          "risk": 4.963552221919774,
          "risk_level": 10
         },
         {
          "correlation": 0.1,
          "num_assets": 11,
          "risk": 3.2095088690152394,
          "risk_level": 10
         },
         {
          "correlation": 0.2,
          "num_assets": 11,
          "risk": 3.142034686191928,
          "risk_level": 10
         },
         {
          "correlation": 0.3,
          "num_assets": 11,
          "risk": 3.4704799559694064,
          "risk_level": 10
         },
         {
          "correlation": 0.4,
          "num_assets": 11,
          "risk": 4.010616480198722,
          "risk_level": 10
         },
         {
          "correlation": 0.5,
          "num_assets": 11,
          "risk": 4.432560868560406,
          "risk_level": 10
         },
         {
          "correlation": 0.6,
          "num_assets": 11,
          "risk": 4.8820394485629555,
          "risk_level": 10
         },
         {
          "correlation": 0.1,
          "num_assets": 12,
          "risk": 3.075574649364466,
          "risk_level": 10
         },
         {
          "correlation": 0.2,
          "num_assets": 12,
          "risk": 3.0151466613665914,
          "risk_level": 10
         },
         {
          "correlation": 0.3,
          "num_assets": 12,
          "risk": 3.3560442969557207,
          "risk_level": 10
         },
         {
          "correlation": 0.4,
          "num_assets": 12,
          "risk": 3.9111064133869844,
          "risk_level": 10
         },
         {
          "correlation": 0.5,
          "num_assets": 12,
          "risk": 4.3576057650210425,
          "risk_level": 10
         },
         {
          "correlation": 0.6,
          "num_assets": 12,
          "risk": 4.808621846718677,
          "risk_level": 10
         },
         {
          "correlation": 0.1,
          "num_assets": 13,
          "risk": 2.9662164572812766,
          "risk_level": 10
         },
         {
          "correlation": 0.2,
          "num_assets": 13,
          "risk": 2.908837889854996,
          "risk_level": 10
         },
         {
          "correlation": 0.3,
          "num_assets": 13,
          "risk": 3.251000940384726,
          "risk_level": 10
         },
         {
          "correlation": 0.4,
          "num_assets": 13,
          "risk": 3.841729141668891,
          "risk_level": 10
         },
         {
          "correlation": 0.5,
          "num_assets": 13,
          "risk": 4.284902942592227,
          "risk_level": 10
         },
         {
          "correlation": 0.6,
          "num_assets": 13,
          "risk": 4.734360095721484,
          "risk_level": 10
         },
         {
          "correlation": 0.1,
          "num_assets": 14,
          "risk": 2.872197200652618,
          "risk_level": 10
         },
         {
          "correlation": 0.2,
          "num_assets": 14,
          "risk": 2.817335776056065,
          "risk_level": 10
         },
         {
          "correlation": 0.3,
          "num_assets": 14,
          "risk": 3.1721611382244235,
          "risk_level": 10
         },
         {
          "correlation": 0.4,
          "num_assets": 14,
          "risk": 3.7578450711465137,
          "risk_level": 10
         },
         {
          "correlation": 0.5,
          "num_assets": 14,
          "risk": 4.209440352670407,
          "risk_level": 10
         },
         {
          "correlation": 0.6,
          "num_assets": 14,
          "risk": 4.673884035081342,
          "risk_level": 10
         },
         {
          "correlation": 0.1,
          "num_assets": 15,
          "risk": 2.787337988125669,
          "risk_level": 10
         },
         {
          "correlation": 0.2,
          "num_assets": 15,
          "risk": 2.7413488655677627,
          "risk_level": 10
         },
         {
          "correlation": 0.3,
          "num_assets": 15,
          "risk": 3.1130374972235497,
          "risk_level": 10
         },
         {
          "correlation": 0.4,
          "num_assets": 15,
          "risk": 3.696345804782354,
          "risk_level": 10
         },
         {
          "correlation": 0.5,
          "num_assets": 15,
          "risk": 4.158398323408307,
          "risk_level": 10
         },
         {
          "correlation": 0.6,
          "num_assets": 15,
          "risk": 4.625004600312405,
          "risk_level": 10
         },
         {
          "correlation": 0.1,
          "num_assets": 16,
          "risk": 2.708590623942343,
          "risk_level": 10
         },
         {
          "correlation": 0.2,
          "num_assets": 16,
          "risk": 2.6637367518194264,
          "risk_level": 10
         },
         {
          "correlation": 0.3,
          "num_assets": 16,
          "risk": 3.045579371706917,
          "risk_level": 10
         },
         {
          "correlation": 0.4,
          "num_assets": 16,
          "risk": 3.634420135306172,
          "risk_level": 10
         },
         {
          "correlation": 0.5,
          "num_assets": 16,
          "risk": 4.1168803446365265,
          "risk_level": 10
         },
         {
          "correlation": 0.6,
          "num_assets": 16,
          "risk": 4.579831793671649,
          "risk_level": 10
         },
         {
          "correlation": 0.1,
          "num_assets": 17,
          "risk": 2.6367087256378894,
          "risk_level": 10
         },
         {
          "correlation": 0.2,
          "num_assets": 17,
          "risk": 2.5927674717158915,
          "risk_level": 10
         },
         {
          "correlation": 0.3,
          "num_assets": 17,
          "risk": 2.986017408219669,
          "risk_level": 10
         },
         {
          "correlation": 0.4,
          "num_assets": 17,
          "risk": 3.595851828870365,
          "risk_level": 10
         },
         {
          "correlation": 0.5,
          "num_assets": 17,
          "risk": 4.067728704663118,
          "risk_level": 10
         },
         {
          "correlation": 0.6,
          "num_assets": 17,
          "risk": 4.539896884512639,
          "risk_level": 10
         },
         {
          "correlation": 0.1,
          "num_assets": 18,
          "risk": 2.569297503853915,
          "risk_level": 10
         },
         {
          "correlation": 0.2,
          "num_assets": 18,
          "risk": 2.5286779868611666,
          "risk_level": 10
         },
         {
          "correlation": 0.3,
          "num_assets": 18,
          "risk": 2.9246349881965705,
          "risk_level": 10
         },
         {
          "correlation": 0.4,
          "num_assets": 18,
          "risk": 3.5562792476961564,
          "risk_level": 10
         },
         {
          "correlation": 0.5,
          "num_assets": 18,
          "risk": 4.026012984796617,
          "risk_level": 10
         },
         {
          "correlation": 0.6,
          "num_assets": 18,
          "risk": 4.499922672391066,
          "risk_level": 10
         },
         {
          "correlation": 0.1,
          "num_assets": 19,
          "risk": 2.5006577690504415,
          "risk_level": 10
         },
         {
          "correlation": 0.2,
          "num_assets": 19,
          "risk": 2.4723017909819207,
          "risk_level": 10
         },
         {
          "correlation": 0.3,
          "num_assets": 19,
          "risk": 2.8641997228931557,
          "risk_level": 10
         },
         {
          "correlation": 0.4,
          "num_assets": 19,
          "risk": 3.514514588156275,
          "risk_level": 10
         },
         {
          "correlation": 0.5,
          "num_assets": 19,
          "risk": 3.9850693060239655,
          "risk_level": 10
         },
         {
          "correlation": 0.6,
          "num_assets": 19,
          "risk": 4.459088253110763,
          "risk_level": 10
         },
         {
          "correlation": 0.1,
          "num_assets": 20,
          "risk": 2.375624880597919,
          "risk_level": 10
         },
         {
          "correlation": 0.2,
          "num_assets": 20,
          "risk": 2.3486867014328245,
          "risk_level": 10
         },
         {
          "correlation": 0.3,
          "num_assets": 20,
          "risk": 2.720989736748498,
          "risk_level": 10
         },
         {
          "correlation": 0.4,
          "num_assets": 20,
          "risk": 3.3387888587484613,
          "risk_level": 10
         },
         {
          "correlation": 0.5,
          "num_assets": 20,
          "risk": 3.785815840722767,
          "risk_level": 10
         },
         {
          "correlation": 0.6,
          "num_assets": 20,
          "risk": 4.236133840455224,
          "risk_level": 10
         }
        ]
       },
       "layer": [
        {
         "data": {
          "name": "data-dd33e2b4685fc9c205ceaaaebef3168d"
         },
         "encoding": {
          "color": {
           "field": "correlation",
           "scale": {
            "scheme": "set2"
           },
           "type": "nominal"
          },
          "opacity": {
           "value": 0
          },
          "x": {
           "field": "num_assets",
           "type": "quantitative"
          },
          "y": {
           "field": "risk",
           "type": "quantitative"
          }
         },
         "mark": "circle",
         "selection": {
          "selector006": {
           "empty": "all",
           "fields": [
            "correlation"
           ],
           "nearest": true,
           "on": "mouseover",
           "resolve": "global",
           "type": "single"
          }
         },
         "width": 600
        },
        {
         "data": {
          "name": "data-dd33e2b4685fc9c205ceaaaebef3168d"
         },
         "encoding": {
          "color": {
           "field": "correlation",
           "scale": {
            "scheme": "set2"
           },
           "type": "nominal"
          },
          "size": {
           "condition": {
            "selection": {
             "not": "selector006"
            },
            "value": 1
           },
           "value": 3
          },
          "x": {
           "field": "num_assets",
           "type": "quantitative"
          },
          "y": {
           "field": "risk",
           "type": "quantitative"
          }
         },
         "mark": "line"
        }
       ]
      },
      "image/png": "[encoded data removed]",
      "text/plain": [
       "<VegaLite 2 object>\n",
       "\n",
       "If you see this message, it means the renderer has not been properly enabled\n",
       "for the frontend that you are using. For more information, see\n",
       "https://altair-viz.github.io/user_guide/troubleshooting.html\n"
      ]
     },
     "execution_count": 276,
     "metadata": {},
     "output_type": "execute_result"
    }
   ],
   "source": [
    "chart = alt.Chart(data=stacked)\n",
    "\n",
    "highlight = alt.selection(type=\"single\", on=\"mouseover\",\n",
    "                          fields=[\"correlation\"], nearest=True)\n",
    "\n",
    "base = chart.encode(\n",
    "            alt.X(\"num_assets:Q\"),\n",
    "            alt.Y(\"risk:Q\"),\n",
    "            alt.Color(\"correlation:N\", scale=alt.Scale(scheme=\"set2\")))\n",
    "\n",
    "points = base.mark_circle().encode(\n",
    "    opacity=alt.value(0)\n",
    ").add_selection(\n",
    "    highlight\n",
    ").properties(\n",
    "    width=600\n",
    ")\n",
    "\n",
    "lines = base.mark_line().encode(\n",
    "    size=alt.condition(~highlight, alt.value(1), alt.value(3))\n",
    ")\n",
    "\n",
    "points + lines"
   ]
  },
  {
   "cell_type": "code",
   "execution_count": null,
   "metadata": {},
   "outputs": [],
   "source": []
  }
 ],
 "metadata": {
  "kernelspec": {
   "display_name": "Python 3",
   "language": "python",
   "name": "python3"
  },
  "language_info": {
   "codemirror_mode": {
    "name": "ipython",
    "version": 3
   },
   "file_extension": ".py",
   "mimetype": "text/x-python",
   "name": "python",
   "nbconvert_exporter": "python",
   "pygments_lexer": "ipython3",
   "version": "3.6.7"
  }
 },
 "nbformat": 4,
 "nbformat_minor": 2
}
