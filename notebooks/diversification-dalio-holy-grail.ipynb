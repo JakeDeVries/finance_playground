{
 "cells": [
  {
   "cell_type": "markdown",
   "metadata": {},
   "source": [
    "# Ray Dalio's Holy Grail"
   ]
  },
  {
   "cell_type": "markdown",
   "metadata": {},
   "source": [
    "### _Reducing return/risk ratio through diversification._\n",
    "\n",
    "https://www.investopedia.com/video/play/ray-dalio-his-portfolio-holy-grail/"
   ]
  },
  {
   "cell_type": "markdown",
   "metadata": {},
   "source": [
    "From _Principles: Life and Work_ by Ray Dalio.\n",
    "\n",
    "> From my earlier failures, I knew that no matter how confident I was in making any one bet I could still be wrong—and that proper diversification was the key to reducing risks without reducing returns. If I could build a portfolio filled with high-quality return streams that were properly diversified (they zigged and zagged in ways that balanced each other out), I could offer clients an overall portfolio return much more consistent and reliable than what they could get elsewhere.”"
   ]
  },
  {
   "cell_type": "markdown",
   "metadata": {},
   "source": [
    "In this notebook, we'll explore what Ray Dalio referrs to as the _Holy Grail of Investing_, how increasing diversification we are able to reduce overall risk, as measured by the standard deviation of portfolio returns.  \n",
    "The idea is to show that, if we can find a basket of uncorrelated return streams (in practice we allow for low correlation), we can reduce the portfolio risk significantly by increasing the number of streams in our portfolio."
   ]
  },
  {
   "cell_type": "code",
   "execution_count": 1,
   "metadata": {},
   "outputs": [],
   "source": [
    "%config InlineBackend.figure_format = \"retina\"\n",
    "\n",
    "import numpy as np\n",
    "import pandas as pd\n",
    "import altair as alt\n",
    "\n",
    "np.random.seed(42) # Set seed for reproducibility"
   ]
  },
  {
   "cell_type": "markdown",
   "metadata": {},
   "source": [
    "We begin by creating a function that simulates `n` return streams with a given mean (`mean`) and standard deviation (`risk`), and a given average correlation (`corr`) between them."
   ]
  },
  {
   "cell_type": "code",
   "execution_count": 2,
   "metadata": {},
   "outputs": [],
   "source": [
    "def correlated_streams(n, mean, risk, corr):\n",
    "    \"\"\"Generates `n` return streams with given average `mean` and `risk`,\n",
    "    and with an average correlation level `corr`.\n",
    "    \"\"\"\n",
    "    num_samples = 10_000\n",
    "    means = np.full(n, mean)\n",
    "    \n",
    "    corr_mat = np.full((n, n), corr, dtype=np.dtype(\"d\"))\n",
    "    np.fill_diagonal(corr_mat, 1,)\n",
    "    cov_mat = corr_mat * risk**2\n",
    "    \n",
    "    streams = np.random.multivariate_normal(means, cov_mat, size=num_samples)\n",
    "    \n",
    "    return streams.T"
   ]
  },
  {
   "cell_type": "markdown",
   "metadata": {},
   "source": [
    "Just to make sure, let's do a sanity check."
   ]
  },
  {
   "cell_type": "code",
   "execution_count": 3,
   "metadata": {},
   "outputs": [],
   "source": [
    "n = 5\n",
    "mean, std, corr = 10, 15, 0.6\n",
    "\n",
    "streams = correlated_streams(n, mean, std, corr)"
   ]
  },
  {
   "cell_type": "code",
   "execution_count": 4,
   "metadata": {},
   "outputs": [
    {
     "data": {
      "text/plain": [
       "array([10.12229747,  9.92797016,  9.98877207, 10.05103342,  9.90978558])"
      ]
     },
     "execution_count": 4,
     "metadata": {},
     "output_type": "execute_result"
    }
   ],
   "source": [
    "streams.mean(axis=1)"
   ]
  },
  {
   "cell_type": "code",
   "execution_count": 5,
   "metadata": {},
   "outputs": [
    {
     "data": {
      "text/plain": [
       "array([15.07254044, 15.05168254, 15.17926238, 15.2192544 , 15.14908131])"
      ]
     },
     "execution_count": 5,
     "metadata": {},
     "output_type": "execute_result"
    }
   ],
   "source": [
    "streams.std(axis=1)"
   ]
  },
  {
   "cell_type": "code",
   "execution_count": 6,
   "metadata": {},
   "outputs": [
    {
     "data": {
      "text/plain": [
       "array([[1.        , 0.60676484, 0.61222918, 0.61179636, 0.60301561],\n",
       "       [0.60676484, 1.        , 0.61036834, 0.61049393, 0.61073826],\n",
       "       [0.61222918, 0.61036834, 1.        , 0.61526424, 0.61265281],\n",
       "       [0.61179636, 0.61049393, 0.61526424, 1.        , 0.605607  ],\n",
       "       [0.60301561, 0.61073826, 0.61265281, 0.605607  , 1.        ]])"
      ]
     },
     "execution_count": 6,
     "metadata": {},
     "output_type": "execute_result"
    }
   ],
   "source": [
    "np.corrcoef(streams)"
   ]
  },
  {
   "cell_type": "markdown",
   "metadata": {},
   "source": [
    "This is the simplest way to construct such a portfolio. We make each pariwise correlation between assets equal to a given level `corr`. The important point is that the average of all the pairwise correlations should be equal to `corr`."
   ]
  },
  {
   "cell_type": "markdown",
   "metadata": {},
   "source": [
    "We'll create a helper function to calculate the pooled risk of a given number of return streams in the porfolio."
   ]
  },
  {
   "cell_type": "code",
   "execution_count": 7,
   "metadata": {},
   "outputs": [],
   "source": [
    "def aggregate_risk(return_streams, n):\n",
    "    \"\"\"Returns the pooled risk (std) of the `n` first streams \n",
    "    in `return_streams`\n",
    "    \"\"\"\n",
    "    assert len(return_streams) >= n\n",
    "    \n",
    "    aggregate_returns = np.sum(return_streams[:n], axis=0) / n\n",
    "    return aggregate_returns.std()"
   ]
  },
  {
   "cell_type": "markdown",
   "metadata": {},
   "source": [
    "Next, we'll build our simulated dataset. We'll analyse return streams with risk levels in the range 1% - 14%, for varying number of streams ranging from 1 to 20.  \n",
    "We'll plot the risk levels for different average correlation, ranging from 0 to 0.7."
   ]
  },
  {
   "cell_type": "code",
   "execution_count": 8,
   "metadata": {},
   "outputs": [],
   "source": [
    "max_assets = 20\n",
    "assets = range(1, max_assets+1)\n",
    "\n",
    "mean = 10 # Avg mean return of 10%\n",
    "risk_levels = range(1, 15)\n",
    "\n",
    "index = pd.MultiIndex.from_product([risk_levels, assets], names=[\"risk_level\", \"num_assets\"])\n",
    "simulated_data = pd.DataFrame(index=index)\n",
    "\n",
    "for risk in risk_levels:\n",
    "    for corr in np.arange(0.0, .8, 0.1):\n",
    "        return_streams = correlated_streams(max_assets, mean, risk, corr)\n",
    "        risk_level = np.zeros(max_assets)\n",
    "        for num_assets in assets:\n",
    "            risk_level[num_assets-1] = aggregate_risk(return_streams, num_assets)\n",
    "        simulated_data.loc[(risk, ), round(corr, 1)] = risk_level\n",
    "        \n",
    "simulated_data.columns.names = [\"correlation\"]"
   ]
  },
  {
   "cell_type": "markdown",
   "metadata": {},
   "source": [
    "Let's have a look at our dataset."
   ]
  },
  {
   "cell_type": "code",
   "execution_count": 9,
   "metadata": {},
   "outputs": [
    {
     "data": {
      "text/html": [
       "<div>\n",
       "<style scoped>\n",
       "    .dataframe tbody tr th:only-of-type {\n",
       "        vertical-align: middle;\n",
       "    }\n",
       "\n",
       "    .dataframe tbody tr th {\n",
       "        vertical-align: top;\n",
       "    }\n",
       "\n",
       "    .dataframe thead th {\n",
       "        text-align: right;\n",
       "    }\n",
       "</style>\n",
       "<table border=\"1\" class=\"dataframe\">\n",
       "  <thead>\n",
       "    <tr style=\"text-align: right;\">\n",
       "      <th></th>\n",
       "      <th>correlation</th>\n",
       "      <th>0.0</th>\n",
       "      <th>0.1</th>\n",
       "      <th>0.2</th>\n",
       "      <th>0.3</th>\n",
       "      <th>0.4</th>\n",
       "      <th>0.5</th>\n",
       "      <th>0.6</th>\n",
       "      <th>0.7</th>\n",
       "    </tr>\n",
       "    <tr>\n",
       "      <th>risk_level</th>\n",
       "      <th>num_assets</th>\n",
       "      <th></th>\n",
       "      <th></th>\n",
       "      <th></th>\n",
       "      <th></th>\n",
       "      <th></th>\n",
       "      <th></th>\n",
       "      <th></th>\n",
       "      <th></th>\n",
       "    </tr>\n",
       "  </thead>\n",
       "  <tbody>\n",
       "    <tr>\n",
       "      <th rowspan=\"20\" valign=\"top\">14</th>\n",
       "      <th>1</th>\n",
       "      <td>14.139732</td>\n",
       "      <td>14.183844</td>\n",
       "      <td>14.062874</td>\n",
       "      <td>13.906914</td>\n",
       "      <td>14.016018</td>\n",
       "      <td>13.967769</td>\n",
       "      <td>14.047985</td>\n",
       "      <td>14.124923</td>\n",
       "    </tr>\n",
       "    <tr>\n",
       "      <th>2</th>\n",
       "      <td>9.971890</td>\n",
       "      <td>10.353876</td>\n",
       "      <td>10.942021</td>\n",
       "      <td>11.268121</td>\n",
       "      <td>11.719979</td>\n",
       "      <td>12.092035</td>\n",
       "      <td>12.523072</td>\n",
       "      <td>12.993926</td>\n",
       "    </tr>\n",
       "    <tr>\n",
       "      <th>3</th>\n",
       "      <td>8.109977</td>\n",
       "      <td>8.858116</td>\n",
       "      <td>9.628288</td>\n",
       "      <td>10.189106</td>\n",
       "      <td>10.866995</td>\n",
       "      <td>11.527557</td>\n",
       "      <td>11.936896</td>\n",
       "      <td>12.700021</td>\n",
       "    </tr>\n",
       "    <tr>\n",
       "      <th>4</th>\n",
       "      <td>6.986998</td>\n",
       "      <td>7.940064</td>\n",
       "      <td>9.000020</td>\n",
       "      <td>9.627738</td>\n",
       "      <td>10.427791</td>\n",
       "      <td>11.156455</td>\n",
       "      <td>11.632607</td>\n",
       "      <td>12.501330</td>\n",
       "    </tr>\n",
       "    <tr>\n",
       "      <th>5</th>\n",
       "      <td>6.264615</td>\n",
       "      <td>7.383155</td>\n",
       "      <td>8.476107</td>\n",
       "      <td>9.258889</td>\n",
       "      <td>10.160074</td>\n",
       "      <td>10.940836</td>\n",
       "      <td>11.467615</td>\n",
       "      <td>12.354408</td>\n",
       "    </tr>\n",
       "    <tr>\n",
       "      <th>6</th>\n",
       "      <td>5.716743</td>\n",
       "      <td>6.981279</td>\n",
       "      <td>8.180173</td>\n",
       "      <td>9.002885</td>\n",
       "      <td>9.964878</td>\n",
       "      <td>10.783878</td>\n",
       "      <td>11.360462</td>\n",
       "      <td>12.244618</td>\n",
       "    </tr>\n",
       "    <tr>\n",
       "      <th>7</th>\n",
       "      <td>5.295934</td>\n",
       "      <td>6.662273</td>\n",
       "      <td>7.948934</td>\n",
       "      <td>8.810349</td>\n",
       "      <td>9.824147</td>\n",
       "      <td>10.681967</td>\n",
       "      <td>11.263729</td>\n",
       "      <td>12.185342</td>\n",
       "    </tr>\n",
       "    <tr>\n",
       "      <th>8</th>\n",
       "      <td>4.947562</td>\n",
       "      <td>6.426823</td>\n",
       "      <td>7.746143</td>\n",
       "      <td>8.693509</td>\n",
       "      <td>9.722466</td>\n",
       "      <td>10.583549</td>\n",
       "      <td>11.178877</td>\n",
       "      <td>12.154764</td>\n",
       "    </tr>\n",
       "    <tr>\n",
       "      <th>9</th>\n",
       "      <td>4.661358</td>\n",
       "      <td>6.241620</td>\n",
       "      <td>7.579661</td>\n",
       "      <td>8.579598</td>\n",
       "      <td>9.654701</td>\n",
       "      <td>10.529631</td>\n",
       "      <td>11.145755</td>\n",
       "      <td>12.109616</td>\n",
       "    </tr>\n",
       "    <tr>\n",
       "      <th>10</th>\n",
       "      <td>4.442710</td>\n",
       "      <td>6.093881</td>\n",
       "      <td>7.460082</td>\n",
       "      <td>8.515337</td>\n",
       "      <td>9.593855</td>\n",
       "      <td>10.488526</td>\n",
       "      <td>11.119618</td>\n",
       "      <td>12.103459</td>\n",
       "    </tr>\n",
       "    <tr>\n",
       "      <th>11</th>\n",
       "      <td>4.239165</td>\n",
       "      <td>5.985589</td>\n",
       "      <td>7.368723</td>\n",
       "      <td>8.447905</td>\n",
       "      <td>9.551672</td>\n",
       "      <td>10.444280</td>\n",
       "      <td>11.096220</td>\n",
       "      <td>12.079866</td>\n",
       "    </tr>\n",
       "    <tr>\n",
       "      <th>12</th>\n",
       "      <td>4.067129</td>\n",
       "      <td>5.848384</td>\n",
       "      <td>7.261351</td>\n",
       "      <td>8.386694</td>\n",
       "      <td>9.511828</td>\n",
       "      <td>10.406193</td>\n",
       "      <td>11.076911</td>\n",
       "      <td>12.068993</td>\n",
       "    </tr>\n",
       "    <tr>\n",
       "      <th>13</th>\n",
       "      <td>3.899028</td>\n",
       "      <td>5.742075</td>\n",
       "      <td>7.186550</td>\n",
       "      <td>8.324049</td>\n",
       "      <td>9.473521</td>\n",
       "      <td>10.369270</td>\n",
       "      <td>11.052183</td>\n",
       "      <td>12.053648</td>\n",
       "    </tr>\n",
       "    <tr>\n",
       "      <th>14</th>\n",
       "      <td>3.748972</td>\n",
       "      <td>5.640994</td>\n",
       "      <td>7.124659</td>\n",
       "      <td>8.270063</td>\n",
       "      <td>9.439662</td>\n",
       "      <td>10.344146</td>\n",
       "      <td>11.026962</td>\n",
       "      <td>12.032337</td>\n",
       "    </tr>\n",
       "    <tr>\n",
       "      <th>15</th>\n",
       "      <td>3.621510</td>\n",
       "      <td>5.578849</td>\n",
       "      <td>7.071261</td>\n",
       "      <td>8.237998</td>\n",
       "      <td>9.407296</td>\n",
       "      <td>10.329517</td>\n",
       "      <td>11.021145</td>\n",
       "      <td>12.023096</td>\n",
       "    </tr>\n",
       "    <tr>\n",
       "      <th>16</th>\n",
       "      <td>3.504821</td>\n",
       "      <td>5.511867</td>\n",
       "      <td>7.032749</td>\n",
       "      <td>8.213322</td>\n",
       "      <td>9.375700</td>\n",
       "      <td>10.311569</td>\n",
       "      <td>11.012383</td>\n",
       "      <td>12.013513</td>\n",
       "    </tr>\n",
       "    <tr>\n",
       "      <th>17</th>\n",
       "      <td>3.388423</td>\n",
       "      <td>5.448855</td>\n",
       "      <td>6.989579</td>\n",
       "      <td>8.190652</td>\n",
       "      <td>9.355400</td>\n",
       "      <td>10.295327</td>\n",
       "      <td>11.004884</td>\n",
       "      <td>12.003186</td>\n",
       "    </tr>\n",
       "    <tr>\n",
       "      <th>18</th>\n",
       "      <td>3.286793</td>\n",
       "      <td>5.395965</td>\n",
       "      <td>6.953230</td>\n",
       "      <td>8.157502</td>\n",
       "      <td>9.333752</td>\n",
       "      <td>10.279044</td>\n",
       "      <td>10.988993</td>\n",
       "      <td>12.000082</td>\n",
       "    </tr>\n",
       "    <tr>\n",
       "      <th>19</th>\n",
       "      <td>3.202366</td>\n",
       "      <td>5.352398</td>\n",
       "      <td>6.913921</td>\n",
       "      <td>8.141816</td>\n",
       "      <td>9.315900</td>\n",
       "      <td>10.256781</td>\n",
       "      <td>10.980980</td>\n",
       "      <td>11.996158</td>\n",
       "    </tr>\n",
       "    <tr>\n",
       "      <th>20</th>\n",
       "      <td>3.127220</td>\n",
       "      <td>5.314700</td>\n",
       "      <td>6.896133</td>\n",
       "      <td>8.123222</td>\n",
       "      <td>9.304375</td>\n",
       "      <td>10.239964</td>\n",
       "      <td>10.973629</td>\n",
       "      <td>11.985602</td>\n",
       "    </tr>\n",
       "  </tbody>\n",
       "</table>\n",
       "</div>"
      ],
      "text/plain": [
       "correlation                  0.0        0.1        0.2        0.3        0.4  \\\n",
       "risk_level num_assets                                                          \n",
       "14         1           14.139732  14.183844  14.062874  13.906914  14.016018   \n",
       "           2            9.971890  10.353876  10.942021  11.268121  11.719979   \n",
       "           3            8.109977   8.858116   9.628288  10.189106  10.866995   \n",
       "           4            6.986998   7.940064   9.000020   9.627738  10.427791   \n",
       "           5            6.264615   7.383155   8.476107   9.258889  10.160074   \n",
       "           6            5.716743   6.981279   8.180173   9.002885   9.964878   \n",
       "           7            5.295934   6.662273   7.948934   8.810349   9.824147   \n",
       "           8            4.947562   6.426823   7.746143   8.693509   9.722466   \n",
       "           9            4.661358   6.241620   7.579661   8.579598   9.654701   \n",
       "           10           4.442710   6.093881   7.460082   8.515337   9.593855   \n",
       "           11           4.239165   5.985589   7.368723   8.447905   9.551672   \n",
       "           12           4.067129   5.848384   7.261351   8.386694   9.511828   \n",
       "           13           3.899028   5.742075   7.186550   8.324049   9.473521   \n",
       "           14           3.748972   5.640994   7.124659   8.270063   9.439662   \n",
       "           15           3.621510   5.578849   7.071261   8.237998   9.407296   \n",
       "           16           3.504821   5.511867   7.032749   8.213322   9.375700   \n",
       "           17           3.388423   5.448855   6.989579   8.190652   9.355400   \n",
       "           18           3.286793   5.395965   6.953230   8.157502   9.333752   \n",
       "           19           3.202366   5.352398   6.913921   8.141816   9.315900   \n",
       "           20           3.127220   5.314700   6.896133   8.123222   9.304375   \n",
       "\n",
       "correlation                  0.5        0.6        0.7  \n",
       "risk_level num_assets                                   \n",
       "14         1           13.967769  14.047985  14.124923  \n",
       "           2           12.092035  12.523072  12.993926  \n",
       "           3           11.527557  11.936896  12.700021  \n",
       "           4           11.156455  11.632607  12.501330  \n",
       "           5           10.940836  11.467615  12.354408  \n",
       "           6           10.783878  11.360462  12.244618  \n",
       "           7           10.681967  11.263729  12.185342  \n",
       "           8           10.583549  11.178877  12.154764  \n",
       "           9           10.529631  11.145755  12.109616  \n",
       "           10          10.488526  11.119618  12.103459  \n",
       "           11          10.444280  11.096220  12.079866  \n",
       "           12          10.406193  11.076911  12.068993  \n",
       "           13          10.369270  11.052183  12.053648  \n",
       "           14          10.344146  11.026962  12.032337  \n",
       "           15          10.329517  11.021145  12.023096  \n",
       "           16          10.311569  11.012383  12.013513  \n",
       "           17          10.295327  11.004884  12.003186  \n",
       "           18          10.279044  10.988993  12.000082  \n",
       "           19          10.256781  10.980980  11.996158  \n",
       "           20          10.239964  10.973629  11.985602  "
      ]
     },
     "execution_count": 9,
     "metadata": {},
     "output_type": "execute_result"
    }
   ],
   "source": [
    "simulated_data.query(\"risk_level == 14\")"
   ]
  },
  {
   "cell_type": "markdown",
   "metadata": {},
   "source": [
    "We can already see how portfolio risk _decreases_ as we add more assets, with sharper declines when we they have low correlation."
   ]
  },
  {
   "cell_type": "markdown",
   "metadata": {},
   "source": [
    "To recreate Dalio's chart (as seen in [this video](https://www.investopedia.com/video/play/ray-dalio-his-portfolio-holy-grail/)), we create a function that produces a plot given our simulated data and a risk level."
   ]
  },
  {
   "cell_type": "code",
   "execution_count": 10,
   "metadata": {},
   "outputs": [],
   "source": [
    "def plot_risk_level(data, risk_level):\n",
    "    subset = data.query(\"risk_level == @risk_level\")\n",
    "    stacked = subset.stack().reset_index(name=\"risk\")\n",
    "    stacked.head()\n",
    "    \n",
    "    chart = alt.Chart(data=stacked)\n",
    "\n",
    "    highlight = alt.selection(type=\"single\", on=\"mouseover\",\n",
    "                              fields=[\"correlation\"], nearest=True)\n",
    "\n",
    "    base = chart.encode(\n",
    "                alt.X(\"num_assets\", axis=alt.Axis(title=\"Number of Assets\")),\n",
    "                alt.Y(\"risk\", axis=alt.Axis(title=\"Risk %\")),\n",
    "                alt.Color(\"correlation:N\", scale=alt.Scale(scheme=\"set2\")))\n",
    "\n",
    "    points = base.mark_circle().encode(\n",
    "        opacity=alt.value(0)\n",
    "    ).add_selection(\n",
    "        highlight\n",
    "    ).properties(\n",
    "        height=400,\n",
    "        width=600,\n",
    "        title=\"Risk % by number of assets in portfolio\"\n",
    "    )\n",
    "\n",
    "    lines = base.mark_line().encode(\n",
    "        size=alt.condition(~highlight, alt.value(1), alt.value(3)),\n",
    "        tooltip=[\"correlation\"]\n",
    "    )\n",
    "\n",
    "    return points + lines"
   ]
  },
  {
   "cell_type": "markdown",
   "metadata": {},
   "source": [
    "Let's see how diversification benefits a portfolio with assets that have a risk level of 10%."
   ]
  },
  {
   "cell_type": "code",
   "execution_count": 11,
   "metadata": {},
   "outputs": [
    {
     "data": {
      "application/vnd.vegalite.v2+json": {
       "$schema": "https://vega.github.io/schema/vega-lite/v2.6.0.json",
       "config": {
        "view": {
         "height": 300,
         "width": 400
        }
       },
       "datasets": {
        "data-2f15fd50ef2e85955f53bc0140176aeb": [
         {
          "correlation": 0,
          "num_assets": 1,
          "risk": 9.988874598041512,
          "risk_level": 10
         },
         {
          "correlation": 0.1,
          "num_assets": 1,
          "risk": 9.915870509041193,
          "risk_level": 10
         },
         {
          "correlation": 0.2,
          "num_assets": 1,
          "risk": 9.935378486034184,
          "risk_level": 10
         },
         {
          "correlation": 0.3,
          "num_assets": 1,
          "risk": 10.09103792805081,
          "risk_level": 10
         },
         {
          "correlation": 0.4,
          "num_assets": 1,
          "risk": 9.96511439064291,
          "risk_level": 10
         },
         {
          "correlation": 0.5,
          "num_assets": 1,
          "risk": 9.956549665080548,
          "risk_level": 10
         },
         {
          "correlation": 0.6,
          "num_assets": 1,
          "risk": 10.017771790633251,
          "risk_level": 10
         },
         {
          "correlation": 0.7,
          "num_assets": 1,
          "risk": 10.121020576341614,
          "risk_level": 10
         },
         {
          "correlation": 0,
          "num_assets": 2,
          "risk": 7.069624286589143,
          "risk_level": 10
         },
         {
          "correlation": 0.1,
          "num_assets": 2,
          "risk": 7.261505616339579,
          "risk_level": 10
         },
         {
          "correlation": 0.2,
          "num_assets": 2,
          "risk": 7.714763112981276,
          "risk_level": 10
         },
         {
          "correlation": 0.3,
          "num_assets": 2,
          "risk": 8.132161310818708,
          "risk_level": 10
         },
         {
          "correlation": 0.4,
          "num_assets": 2,
          "risk": 8.347858222253263,
          "risk_level": 10
         },
         {
          "correlation": 0.5,
          "num_assets": 2,
          "risk": 8.64945356021469,
          "risk_level": 10
         },
         {
          "correlation": 0.6,
          "num_assets": 2,
          "risk": 8.931750694470349,
          "risk_level": 10
         },
         {
          "correlation": 0.7,
          "num_assets": 2,
          "risk": 9.247423677274302,
          "risk_level": 10
         },
         {
          "correlation": 0,
          "num_assets": 3,
          "risk": 5.812492322989947,
          "risk_level": 10
         },
         {
          "correlation": 0.1,
          "num_assets": 3,
          "risk": 6.195637674586727,
          "risk_level": 10
         },
         {
          "correlation": 0.2,
          "num_assets": 3,
          "risk": 6.850797269953166,
          "risk_level": 10
         },
         {
          "correlation": 0.3,
          "num_assets": 3,
          "risk": 7.36674514052257,
          "risk_level": 10
         },
         {
          "correlation": 0.4,
          "num_assets": 3,
          "risk": 7.781460519486345,
          "risk_level": 10
         },
         {
          "correlation": 0.5,
          "num_assets": 3,
          "risk": 8.136918633042699,
          "risk_level": 10
         },
         {
          "correlation": 0.6,
          "num_assets": 3,
          "risk": 8.576512938487703,
          "risk_level": 10
         },
         {
          "correlation": 0.7,
          "num_assets": 3,
          "risk": 8.948654809725387,
          "risk_level": 10
         },
         {
          "correlation": 0,
          "num_assets": 4,
          "risk": 5.015060723231312,
          "risk_level": 10
         },
         {
          "correlation": 0.1,
          "num_assets": 4,
          "risk": 5.568384399709923,
          "risk_level": 10
         },
         {
          "correlation": 0.2,
          "num_assets": 4,
          "risk": 6.309410913600983,
          "risk_level": 10
         },
         {
          "correlation": 0.3,
          "num_assets": 4,
          "risk": 6.916809432408592,
          "risk_level": 10
         },
         {
          "correlation": 0.4,
          "num_assets": 4,
          "risk": 7.430528314216496,
          "risk_level": 10
         },
         {
          "correlation": 0.5,
          "num_assets": 4,
          "risk": 7.875900760433728,
          "risk_level": 10
         },
         {
          "correlation": 0.6,
          "num_assets": 4,
          "risk": 8.368852997680122,
          "risk_level": 10
         },
         {
          "correlation": 0.7,
          "num_assets": 4,
          "risk": 8.808740406013259,
          "risk_level": 10
         },
         {
          "correlation": 0,
          "num_assets": 5,
          "risk": 4.503901084763166,
          "risk_level": 10
         },
         {
          "correlation": 0.1,
          "num_assets": 5,
          "risk": 5.212452189446433,
          "risk_level": 10
         },
         {
          "correlation": 0.2,
          "num_assets": 5,
          "risk": 5.975134012997338,
          "risk_level": 10
         },
         {
          "correlation": 0.3,
          "num_assets": 5,
          "risk": 6.654475642037019,
          "risk_level": 10
         },
         {
          "correlation": 0.4,
          "num_assets": 5,
          "risk": 7.228445450792666,
          "risk_level": 10
         },
         {
          "correlation": 0.5,
          "num_assets": 5,
          "risk": 7.7018185916530575,
          "risk_level": 10
         },
         {
          "correlation": 0.6,
          "num_assets": 5,
          "risk": 8.23972308603755,
          "risk_level": 10
         },
         {
          "correlation": 0.7,
          "num_assets": 5,
          "risk": 8.715099156756128,
          "risk_level": 10
         },
         {
          "correlation": 0,
          "num_assets": 6,
          "risk": 4.080931781229849,
          "risk_level": 10
         },
         {
          "correlation": 0.1,
          "num_assets": 6,
          "risk": 4.948644932172637,
          "risk_level": 10
         },
         {
          "correlation": 0.2,
          "num_assets": 6,
          "risk": 5.773331785860621,
          "risk_level": 10
         },
         {
          "correlation": 0.3,
          "num_assets": 6,
          "risk": 6.481143934231887,
          "risk_level": 10
         },
         {
          "correlation": 0.4,
          "num_assets": 6,
          "risk": 7.055205953305472,
          "risk_level": 10
         },
         {
          "correlation": 0.5,
          "num_assets": 6,
          "risk": 7.591750103840483,
          "risk_level": 10
         },
         {
          "correlation": 0.6,
          "num_assets": 6,
          "risk": 8.162286328856316,
          "risk_level": 10
         },
         {
          "correlation": 0.7,
          "num_assets": 6,
          "risk": 8.650104724155382,
          "risk_level": 10
         },
         {
          "correlation": 0,
          "num_assets": 7,
          "risk": 3.7559290501571816,
          "risk_level": 10
         },
         {
          "correlation": 0.1,
          "num_assets": 7,
          "risk": 4.74243307960668,
          "risk_level": 10
         },
         {
          "correlation": 0.2,
          "num_assets": 7,
          "risk": 5.605511665100976,
          "risk_level": 10
         },
         {
          "correlation": 0.3,
          "num_assets": 7,
          "risk": 6.35864443703704,
          "risk_level": 10
         },
         {
          "correlation": 0.4,
          "num_assets": 7,
          "risk": 6.9389196539427465,
          "risk_level": 10
         },
         {
          "correlation": 0.5,
          "num_assets": 7,
          "risk": 7.531937493062812,
          "risk_level": 10
         },
         {
          "correlation": 0.6,
          "num_assets": 7,
          "risk": 8.09512296021374,
          "risk_level": 10
         },
         {
          "correlation": 0.7,
          "num_assets": 7,
          "risk": 8.610484476029345,
          "risk_level": 10
         },
         {
          "correlation": 0,
          "num_assets": 8,
          "risk": 3.5209238219039465,
          "risk_level": 10
         },
         {
          "correlation": 0.1,
          "num_assets": 8,
          "risk": 4.586905998426539,
          "risk_level": 10
         },
         {
          "correlation": 0.2,
          "num_assets": 8,
          "risk": 5.4714806457137914,
          "risk_level": 10
         },
         {
          "correlation": 0.3,
          "num_assets": 8,
          "risk": 6.257841188285115,
          "risk_level": 10
         },
         {
          "correlation": 0.4,
          "num_assets": 8,
          "risk": 6.850395697954482,
          "risk_level": 10
         },
         {
          "correlation": 0.5,
          "num_assets": 8,
          "risk": 7.469352390053623,
          "risk_level": 10
         },
         {
          "correlation": 0.6,
          "num_assets": 8,
          "risk": 8.054166376485977,
          "risk_level": 10
         },
         {
          "correlation": 0.7,
          "num_assets": 8,
          "risk": 8.582193773260915,
          "risk_level": 10
         },
         {
          "correlation": 0,
          "num_assets": 9,
          "risk": 3.3217042521060813,
          "risk_level": 10
         },
         {
          "correlation": 0.1,
          "num_assets": 9,
          "risk": 4.470317179931871,
          "risk_level": 10
         },
         {
          "correlation": 0.2,
          "num_assets": 9,
          "risk": 5.384192893670331,
          "risk_level": 10
         },
         {
          "correlation": 0.3,
          "num_assets": 9,
          "risk": 6.190779484765911,
          "risk_level": 10
         },
         {
          "correlation": 0.4,
          "num_assets": 9,
          "risk": 6.787058063162225,
          "risk_level": 10
         },
         {
          "correlation": 0.5,
          "num_assets": 9,
          "risk": 7.430628556735919,
          "risk_level": 10
         },
         {
          "correlation": 0.6,
          "num_assets": 9,
          "risk": 8.014643906451681,
          "risk_level": 10
         },
         {
          "correlation": 0.7,
          "num_assets": 9,
          "risk": 8.556827607420265,
          "risk_level": 10
         },
         {
          "correlation": 0,
          "num_assets": 10,
          "risk": 3.1567119306035463,
          "risk_level": 10
         },
         {
          "correlation": 0.1,
          "num_assets": 10,
          "risk": 4.359808311513387,
          "risk_level": 10
         },
         {
          "correlation": 0.2,
          "num_assets": 10,
          "risk": 5.302528661617246,
          "risk_level": 10
         },
         {
          "correlation": 0.3,
          "num_assets": 10,
          "risk": 6.130803063965785,
          "risk_level": 10
         },
         {
          "correlation": 0.4,
          "num_assets": 10,
          "risk": 6.731654423621799,
          "risk_level": 10
         },
         {
          "correlation": 0.5,
          "num_assets": 10,
          "risk": 7.389678521820752,
          "risk_level": 10
         },
         {
          "correlation": 0.6,
          "num_assets": 10,
          "risk": 7.982988174921965,
          "risk_level": 10
         },
         {
          "correlation": 0.7,
          "num_assets": 10,
          "risk": 8.533953223122658,
          "risk_level": 10
         },
         {
          "correlation": 0,
          "num_assets": 11,
          "risk": 3.0130610946136556,
          "risk_level": 10
         },
         {
          "correlation": 0.1,
          "num_assets": 11,
          "risk": 4.2609759165406285,
          "risk_level": 10
         },
         {
          "correlation": 0.2,
          "num_assets": 11,
          "risk": 5.229403823218123,
          "risk_level": 10
         },
         {
          "correlation": 0.3,
          "num_assets": 11,
          "risk": 6.094282884732482,
          "risk_level": 10
         },
         {
          "correlation": 0.4,
          "num_assets": 11,
          "risk": 6.698888146556865,
          "risk_level": 10
         },
         {
          "correlation": 0.5,
          "num_assets": 11,
          "risk": 7.369161616977003,
          "risk_level": 10
         },
         {
          "correlation": 0.6,
          "num_assets": 11,
          "risk": 7.9631830351334205,
          "risk_level": 10
         },
         {
          "correlation": 0.7,
          "num_assets": 11,
          "risk": 8.519067035112926,
          "risk_level": 10
         },
         {
          "correlation": 0,
          "num_assets": 12,
          "risk": 2.8873796661841302,
          "risk_level": 10
         },
         {
          "correlation": 0.1,
          "num_assets": 12,
          "risk": 4.179350009677692,
          "risk_level": 10
         },
         {
          "correlation": 0.2,
          "num_assets": 12,
          "risk": 5.164539857163672,
          "risk_level": 10
         },
         {
          "correlation": 0.3,
          "num_assets": 12,
          "risk": 6.044083954595646,
          "risk_level": 10
         },
         {
          "correlation": 0.4,
          "num_assets": 12,
          "risk": 6.668504093936944,
          "risk_level": 10
         },
         {
          "correlation": 0.5,
          "num_assets": 12,
          "risk": 7.335455936399897,
          "risk_level": 10
         },
         {
          "correlation": 0.6,
          "num_assets": 12,
          "risk": 7.949184909894934,
          "risk_level": 10
         },
         {
          "correlation": 0.7,
          "num_assets": 12,
          "risk": 8.49712974194628,
          "risk_level": 10
         },
         {
          "correlation": 0,
          "num_assets": 13,
          "risk": 2.764135313390701,
          "risk_level": 10
         },
         {
          "correlation": 0.1,
          "num_assets": 13,
          "risk": 4.108854799164762,
          "risk_level": 10
         },
         {
          "correlation": 0.2,
          "num_assets": 13,
          "risk": 5.112365445702173,
          "risk_level": 10
         },
         {
          "correlation": 0.3,
          "num_assets": 13,
          "risk": 5.992481895048724,
          "risk_level": 10
         },
         {
          "correlation": 0.4,
          "num_assets": 13,
          "risk": 6.629698237304115,
          "risk_level": 10
         },
         {
          "correlation": 0.5,
          "num_assets": 13,
          "risk": 7.311572180552794,
          "risk_level": 10
         },
         {
          "correlation": 0.6,
          "num_assets": 13,
          "risk": 7.935365707771301,
          "risk_level": 10
         },
         {
          "correlation": 0.7,
          "num_assets": 13,
          "risk": 8.488934302940335,
          "risk_level": 10
         },
         {
          "correlation": 0,
          "num_assets": 14,
          "risk": 2.671654968599471,
          "risk_level": 10
         },
         {
          "correlation": 0.1,
          "num_assets": 14,
          "risk": 4.044950105488602,
          "risk_level": 10
         },
         {
          "correlation": 0.2,
          "num_assets": 14,
          "risk": 5.07751534550891,
          "risk_level": 10
         },
         {
          "correlation": 0.3,
          "num_assets": 14,
          "risk": 5.957905998114061,
          "risk_level": 10
         },
         {
          "correlation": 0.4,
          "num_assets": 14,
          "risk": 6.6017103092949405,
          "risk_level": 10
         },
         {
          "correlation": 0.5,
          "num_assets": 14,
          "risk": 7.292482406691512,
          "risk_level": 10
         },
         {
          "correlation": 0.6,
          "num_assets": 14,
          "risk": 7.934101612762217,
          "risk_level": 10
         },
         {
          "correlation": 0.7,
          "num_assets": 14,
          "risk": 8.476379663758497,
          "risk_level": 10
         },
         {
          "correlation": 0,
          "num_assets": 15,
          "risk": 2.583072761308214,
          "risk_level": 10
         },
         {
          "correlation": 0.1,
          "num_assets": 15,
          "risk": 3.9921210605326647,
          "risk_level": 10
         },
         {
          "correlation": 0.2,
          "num_assets": 15,
          "risk": 5.042264984431165,
          "risk_level": 10
         },
         {
          "correlation": 0.3,
          "num_assets": 15,
          "risk": 5.922929466011561,
          "risk_level": 10
         },
         {
          "correlation": 0.4,
          "num_assets": 15,
          "risk": 6.5805441452183615,
          "risk_level": 10
         },
         {
          "correlation": 0.5,
          "num_assets": 15,
          "risk": 7.278008834408502,
          "risk_level": 10
         },
         {
          "correlation": 0.6,
          "num_assets": 15,
          "risk": 7.919677562300896,
          "risk_level": 10
         },
         {
          "correlation": 0.7,
          "num_assets": 15,
          "risk": 8.462940574770734,
          "risk_level": 10
         },
         {
          "correlation": 0,
          "num_assets": 16,
          "risk": 2.505774242563774,
          "risk_level": 10
         },
         {
          "correlation": 0.1,
          "num_assets": 16,
          "risk": 3.9445439644744753,
          "risk_level": 10
         },
         {
          "correlation": 0.2,
          "num_assets": 16,
          "risk": 5.012084360761512,
          "risk_level": 10
         },
         {
          "correlation": 0.3,
          "num_assets": 16,
          "risk": 5.892496427850219,
          "risk_level": 10
         },
         {
          "correlation": 0.4,
          "num_assets": 16,
          "risk": 6.567871757102611,
          "risk_level": 10
         },
         {
          "correlation": 0.5,
          "num_assets": 16,
          "risk": 7.255109832601611,
          "risk_level": 10
         },
         {
          "correlation": 0.6,
          "num_assets": 16,
          "risk": 7.9206258278168375,
          "risk_level": 10
         },
         {
          "correlation": 0.7,
          "num_assets": 16,
          "risk": 8.453555405711997,
          "risk_level": 10
         },
         {
          "correlation": 0,
          "num_assets": 17,
          "risk": 2.437052927857563,
          "risk_level": 10
         },
         {
          "correlation": 0.1,
          "num_assets": 17,
          "risk": 3.9015735101832143,
          "risk_level": 10
         },
         {
          "correlation": 0.2,
          "num_assets": 17,
          "risk": 4.987352955372099,
          "risk_level": 10
         },
         {
          "correlation": 0.3,
          "num_assets": 17,
          "risk": 5.867941298927057,
          "risk_level": 10
         },
         {
          "correlation": 0.4,
          "num_assets": 17,
          "risk": 6.546390314598995,
          "risk_level": 10
         },
         {
          "correlation": 0.5,
          "num_assets": 17,
          "risk": 7.249947109396954,
          "risk_level": 10
         },
         {
          "correlation": 0.6,
          "num_assets": 17,
          "risk": 7.913570569665891,
          "risk_level": 10
         },
         {
          "correlation": 0.7,
          "num_assets": 17,
          "risk": 8.446300109697079,
          "risk_level": 10
         },
         {
          "correlation": 0,
          "num_assets": 18,
          "risk": 2.3753781163983607,
          "risk_level": 10
         },
         {
          "correlation": 0.1,
          "num_assets": 18,
          "risk": 3.8647634895797593,
          "risk_level": 10
         },
         {
          "correlation": 0.2,
          "num_assets": 18,
          "risk": 4.9576779382668,
          "risk_level": 10
         },
         {
          "correlation": 0.3,
          "num_assets": 18,
          "risk": 5.853396549163792,
          "risk_level": 10
         },
         {
          "correlation": 0.4,
          "num_assets": 18,
          "risk": 6.533863708616051,
          "risk_level": 10
         },
         {
          "correlation": 0.5,
          "num_assets": 18,
          "risk": 7.2398667893465865,
          "risk_level": 10
         },
         {
          "correlation": 0.6,
          "num_assets": 18,
          "risk": 7.9030416687655025,
          "risk_level": 10
         },
         {
          "correlation": 0.7,
          "num_assets": 18,
          "risk": 8.439417949684438,
          "risk_level": 10
         },
         {
          "correlation": 0,
          "num_assets": 19,
          "risk": 2.3130992440658327,
          "risk_level": 10
         },
         {
          "correlation": 0.1,
          "num_assets": 19,
          "risk": 3.8223625750558834,
          "risk_level": 10
         },
         {
          "correlation": 0.2,
          "num_assets": 19,
          "risk": 4.93037496472712,
          "risk_level": 10
         },
         {
          "correlation": 0.3,
          "num_assets": 19,
          "risk": 5.837918196856381,
          "risk_level": 10
         },
         {
          "correlation": 0.4,
          "num_assets": 19,
          "risk": 6.521017628078512,
          "risk_level": 10
         },
         {
          "correlation": 0.5,
          "num_assets": 19,
          "risk": 7.226261146884138,
          "risk_level": 10
         },
         {
          "correlation": 0.6,
          "num_assets": 19,
          "risk": 7.890377809255433,
          "risk_level": 10
         },
         {
          "correlation": 0.7,
          "num_assets": 19,
          "risk": 8.438213761005604,
          "risk_level": 10
         },
         {
          "correlation": 0,
          "num_assets": 20,
          "risk": 2.2593578498432185,
          "risk_level": 10
         },
         {
          "correlation": 0.1,
          "num_assets": 20,
          "risk": 3.7853048094503237,
          "risk_level": 10
         },
         {
          "correlation": 0.2,
          "num_assets": 20,
          "risk": 4.912598660525228,
          "risk_level": 10
         },
         {
          "correlation": 0.3,
          "num_assets": 20,
          "risk": 5.8284290422747,
          "risk_level": 10
         },
         {
          "correlation": 0.4,
          "num_assets": 20,
          "risk": 6.508034002078632,
          "risk_level": 10
         },
         {
          "correlation": 0.5,
          "num_assets": 20,
          "risk": 7.21479086156708,
          "risk_level": 10
         },
         {
          "correlation": 0.6,
          "num_assets": 20,
          "risk": 7.8836104998542424,
          "risk_level": 10
         },
         {
          "correlation": 0.7,
          "num_assets": 20,
          "risk": 8.432613065898623,
          "risk_level": 10
         }
        ]
       },
       "layer": [
        {
         "data": {
          "name": "data-2f15fd50ef2e85955f53bc0140176aeb"
         },
         "encoding": {
          "color": {
           "field": "correlation",
           "scale": {
            "scheme": "set2"
           },
           "type": "nominal"
          },
          "opacity": {
           "value": 0
          },
          "x": {
           "axis": {
            "title": "Number of Assets"
           },
           "field": "num_assets",
           "type": "quantitative"
          },
          "y": {
           "axis": {
            "title": "Risk %"
           },
           "field": "risk",
           "type": "quantitative"
          }
         },
         "height": 400,
         "mark": "circle",
         "selection": {
          "selector001": {
           "empty": "all",
           "fields": [
            "correlation"
           ],
           "nearest": true,
           "on": "mouseover",
           "resolve": "global",
           "type": "single"
          }
         },
         "title": "Risk % by number of assets in portfolio",
         "width": 600
        },
        {
         "data": {
          "name": "data-2f15fd50ef2e85955f53bc0140176aeb"
         },
         "encoding": {
          "color": {
           "field": "correlation",
           "scale": {
            "scheme": "set2"
           },
           "type": "nominal"
          },
          "size": {
           "condition": {
            "selection": {
             "not": "selector001"
            },
            "value": 1
           },
           "value": 3
          },
          "tooltip": [
           {
            "field": "correlation",
            "type": "quantitative"
           }
          ],
          "x": {
           "axis": {
            "title": "Number of Assets"
           },
           "field": "num_assets",
           "type": "quantitative"
          },
          "y": {
           "axis": {
            "title": "Risk %"
           },
           "field": "risk",
           "type": "quantitative"
          }
         },
         "mark": "line"
        }
       ]
      },
      "image/png": "[encoded data removed]",
      "text/plain": [
       "<VegaLite 2 object>\n",
       "\n",
       "If you see this message, it means the renderer has not been properly enabled\n",
       "for the frontend that you are using. For more information, see\n",
       "https://altair-viz.github.io/user_guide/troubleshooting.html\n"
      ]
     },
     "execution_count": 11,
     "metadata": {},
     "output_type": "execute_result"
    }
   ],
   "source": [
    "plot_risk_level(simulated_data, 10)"
   ]
  },
  {
   "cell_type": "markdown",
   "metadata": {},
   "source": [
    "A highly correlated portfolio _does not_ benefit much from increased diversification. We get diminishing returns by adding highly correlated assets beyond 3 or 4.  \n",
    "In contrast, we can _halve_ the risk by adding just 6 or 7 uncorrelated (or more realistically, weakly correlated) assets to a portfolio."
   ]
  },
  {
   "cell_type": "markdown",
   "metadata": {},
   "source": [
    "Let's plot the risk levels for a portfolio with returns streams with 7% risk."
   ]
  },
  {
   "cell_type": "code",
   "execution_count": 12,
   "metadata": {},
   "outputs": [
    {
     "data": {
      "application/vnd.vegalite.v2+json": {
       "$schema": "https://vega.github.io/schema/vega-lite/v2.6.0.json",
       "config": {
        "view": {
         "height": 300,
         "width": 400
        }
       },
       "datasets": {
        "data-1b71cfe6c8cf5bd493e3edbdee73d6f1": [
         {
          "correlation": 0,
          "num_assets": 1,
          "risk": 7.079464105795791,
          "risk_level": 7
         },
         {
          "correlation": 0.1,
          "num_assets": 1,
          "risk": 6.963299374010702,
          "risk_level": 7
         },
         {
          "correlation": 0.2,
          "num_assets": 1,
          "risk": 7.048596118685391,
          "risk_level": 7
         },
         {
          "correlation": 0.3,
          "num_assets": 1,
          "risk": 6.9847285560937165,
          "risk_level": 7
         },
         {
          "correlation": 0.4,
          "num_assets": 1,
          "risk": 7.031138525535615,
          "risk_level": 7
         },
         {
          "correlation": 0.5,
          "num_assets": 1,
          "risk": 7.129898754815749,
          "risk_level": 7
         },
         {
          "correlation": 0.6,
          "num_assets": 1,
          "risk": 6.9748548485632345,
          "risk_level": 7
         },
         {
          "correlation": 0.7,
          "num_assets": 1,
          "risk": 6.987507430286529,
          "risk_level": 7
         },
         {
          "correlation": 0,
          "num_assets": 2,
          "risk": 4.991670968456456,
          "risk_level": 7
         },
         {
          "correlation": 0.1,
          "num_assets": 2,
          "risk": 5.141796787878659,
          "risk_level": 7
         },
         {
          "correlation": 0.2,
          "num_assets": 2,
          "risk": 5.46287626423198,
          "risk_level": 7
         },
         {
          "correlation": 0.3,
          "num_assets": 2,
          "risk": 5.640871420050365,
          "risk_level": 7
         },
         {
          "correlation": 0.4,
          "num_assets": 2,
          "risk": 5.890603209574449,
          "risk_level": 7
         },
         {
          "correlation": 0.5,
          "num_assets": 2,
          "risk": 6.106055137460368,
          "risk_level": 7
         },
         {
          "correlation": 0.6,
          "num_assets": 2,
          "risk": 6.252779094049309,
          "risk_level": 7
         },
         {
          "correlation": 0.7,
          "num_assets": 2,
          "risk": 6.449106007062766,
          "risk_level": 7
         },
         {
          "correlation": 0,
          "num_assets": 3,
          "risk": 4.0707541325588945,
          "risk_level": 7
         },
         {
          "correlation": 0.1,
          "num_assets": 3,
          "risk": 4.3902229099117065,
          "risk_level": 7
         },
         {
          "correlation": 0.2,
          "num_assets": 3,
          "risk": 4.802911735176338,
          "risk_level": 7
         },
         {
          "correlation": 0.3,
          "num_assets": 3,
          "risk": 5.0746459966658914,
          "risk_level": 7
         },
         {
          "correlation": 0.4,
          "num_assets": 3,
          "risk": 5.455185084459568,
          "risk_level": 7
         },
         {
          "correlation": 0.5,
          "num_assets": 3,
          "risk": 5.748544694616723,
          "risk_level": 7
         },
         {
          "correlation": 0.6,
          "num_assets": 3,
          "risk": 5.980476379966888,
          "risk_level": 7
         },
         {
          "correlation": 0.7,
          "num_assets": 3,
          "risk": 6.257717034874616,
          "risk_level": 7
         },
         {
          "correlation": 0,
          "num_assets": 4,
          "risk": 3.506562262124998,
          "risk_level": 7
         },
         {
          "correlation": 0.1,
          "num_assets": 4,
          "risk": 3.968895324447088,
          "risk_level": 7
         },
         {
          "correlation": 0.2,
          "num_assets": 4,
          "risk": 4.468127630001736,
          "risk_level": 7
         },
         {
          "correlation": 0.3,
          "num_assets": 4,
          "risk": 4.791213693693124,
          "risk_level": 7
         },
         {
          "correlation": 0.4,
          "num_assets": 4,
          "risk": 5.221166304729695,
          "risk_level": 7
         },
         {
          "correlation": 0.5,
          "num_assets": 4,
          "risk": 5.560491280062325,
          "risk_level": 7
         },
         {
          "correlation": 0.6,
          "num_assets": 4,
          "risk": 5.818653433036858,
          "risk_level": 7
         },
         {
          "correlation": 0.7,
          "num_assets": 4,
          "risk": 6.169141670344815,
          "risk_level": 7
         },
         {
          "correlation": 0,
          "num_assets": 5,
          "risk": 3.1570848790753927,
          "risk_level": 7
         },
         {
          "correlation": 0.1,
          "num_assets": 5,
          "risk": 3.685631649325251,
          "risk_level": 7
         },
         {
          "correlation": 0.2,
          "num_assets": 5,
          "risk": 4.228509300638527,
          "risk_level": 7
         },
         {
          "correlation": 0.3,
          "num_assets": 5,
          "risk": 4.603339109790195,
          "risk_level": 7
         },
         {
          "correlation": 0.4,
          "num_assets": 5,
          "risk": 5.081031845423748,
          "risk_level": 7
         },
         {
          "correlation": 0.5,
          "num_assets": 5,
          "risk": 5.441837567816624,
          "risk_level": 7
         },
         {
          "correlation": 0.6,
          "num_assets": 5,
          "risk": 5.745234854387823,
          "risk_level": 7
         },
         {
          "correlation": 0.7,
          "num_assets": 5,
          "risk": 6.106706568142603,
          "risk_level": 7
         },
         {
          "correlation": 0,
          "num_assets": 6,
          "risk": 2.8945339902477785,
          "risk_level": 7
         },
         {
          "correlation": 0.1,
          "num_assets": 6,
          "risk": 3.482010035590612,
          "risk_level": 7
         },
         {
          "correlation": 0.2,
          "num_assets": 6,
          "risk": 4.079552579183366,
          "risk_level": 7
         },
         {
          "correlation": 0.3,
          "num_assets": 6,
          "risk": 4.477249815184437,
          "risk_level": 7
         },
         {
          "correlation": 0.4,
          "num_assets": 6,
          "risk": 4.976295426654117,
          "risk_level": 7
         },
         {
          "correlation": 0.5,
          "num_assets": 6,
          "risk": 5.368576281447243,
          "risk_level": 7
         },
         {
          "correlation": 0.6,
          "num_assets": 6,
          "risk": 5.680493940626946,
          "risk_level": 7
         },
         {
          "correlation": 0.7,
          "num_assets": 6,
          "risk": 6.058061587955024,
          "risk_level": 7
         },
         {
          "correlation": 0,
          "num_assets": 7,
          "risk": 2.6781400679348035,
          "risk_level": 7
         },
         {
          "correlation": 0.1,
          "num_assets": 7,
          "risk": 3.342741429654369,
          "risk_level": 7
         },
         {
          "correlation": 0.2,
          "num_assets": 7,
          "risk": 3.9712407562023295,
          "risk_level": 7
         },
         {
          "correlation": 0.3,
          "num_assets": 7,
          "risk": 4.404952682442826,
          "risk_level": 7
         },
         {
          "correlation": 0.4,
          "num_assets": 7,
          "risk": 4.9091502518524965,
          "risk_level": 7
         },
         {
          "correlation": 0.5,
          "num_assets": 7,
          "risk": 5.318679327278036,
          "risk_level": 7
         },
         {
          "correlation": 0.6,
          "num_assets": 7,
          "risk": 5.648569378714969,
          "risk_level": 7
         },
         {
          "correlation": 0.7,
          "num_assets": 7,
          "risk": 6.0343141829874565,
          "risk_level": 7
         },
         {
          "correlation": 0,
          "num_assets": 8,
          "risk": 2.4969002497696002,
          "risk_level": 7
         },
         {
          "correlation": 0.1,
          "num_assets": 8,
          "risk": 3.2329456241492545,
          "risk_level": 7
         },
         {
          "correlation": 0.2,
          "num_assets": 8,
          "risk": 3.85986207872987,
          "risk_level": 7
         },
         {
          "correlation": 0.3,
          "num_assets": 8,
          "risk": 4.332028306739772,
          "risk_level": 7
         },
         {
          "correlation": 0.4,
          "num_assets": 8,
          "risk": 4.875654775337378,
          "risk_level": 7
         },
         {
          "correlation": 0.5,
          "num_assets": 8,
          "risk": 5.2916025831722004,
          "risk_level": 7
         },
         {
          "correlation": 0.6,
          "num_assets": 8,
          "risk": 5.6173839222425155,
          "risk_level": 7
         },
         {
          "correlation": 0.7,
          "num_assets": 8,
          "risk": 6.008747861302523,
          "risk_level": 7
         },
         {
          "correlation": 0,
          "num_assets": 9,
          "risk": 2.3481716741060605,
          "risk_level": 7
         },
         {
          "correlation": 0.1,
          "num_assets": 9,
          "risk": 3.1283055632582792,
          "risk_level": 7
         },
         {
          "correlation": 0.2,
          "num_assets": 9,
          "risk": 3.786818719313206,
          "risk_level": 7
         },
         {
          "correlation": 0.3,
          "num_assets": 9,
          "risk": 4.287548184198004,
          "risk_level": 7
         },
         {
          "correlation": 0.4,
          "num_assets": 9,
          "risk": 4.83929458309492,
          "risk_level": 7
         },
         {
          "correlation": 0.5,
          "num_assets": 9,
          "risk": 5.255518120479697,
          "risk_level": 7
         },
         {
          "correlation": 0.6,
          "num_assets": 9,
          "risk": 5.599154124714709,
          "risk_level": 7
         },
         {
          "correlation": 0.7,
          "num_assets": 9,
          "risk": 5.995699782426634,
          "risk_level": 7
         },
         {
          "correlation": 0,
          "num_assets": 10,
          "risk": 2.233287425532112,
          "risk_level": 7
         },
         {
          "correlation": 0.1,
          "num_assets": 10,
          "risk": 3.0453884955485973,
          "risk_level": 7
         },
         {
          "correlation": 0.2,
          "num_assets": 10,
          "risk": 3.7274559981953383,
          "risk_level": 7
         },
         {
          "correlation": 0.3,
          "num_assets": 10,
          "risk": 4.248733414588162,
          "risk_level": 7
         },
         {
          "correlation": 0.4,
          "num_assets": 10,
          "risk": 4.8038579662435845,
          "risk_level": 7
         },
         {
          "correlation": 0.5,
          "num_assets": 10,
          "risk": 5.2300211634362475,
          "risk_level": 7
         },
         {
          "correlation": 0.6,
          "num_assets": 10,
          "risk": 5.576926208390218,
          "risk_level": 7
         },
         {
          "correlation": 0.7,
          "num_assets": 10,
          "risk": 5.98576742230403,
          "risk_level": 7
         },
         {
          "correlation": 0,
          "num_assets": 11,
          "risk": 2.1296021343107787,
          "risk_level": 7
         },
         {
          "correlation": 0.1,
          "num_assets": 11,
          "risk": 2.988231193242999,
          "risk_level": 7
         },
         {
          "correlation": 0.2,
          "num_assets": 11,
          "risk": 3.673986350723216,
          "risk_level": 7
         },
         {
          "correlation": 0.3,
          "num_assets": 11,
          "risk": 4.214238159230413,
          "risk_level": 7
         },
         {
          "correlation": 0.4,
          "num_assets": 11,
          "risk": 4.7710376936388315,
          "risk_level": 7
         },
         {
          "correlation": 0.5,
          "num_assets": 11,
          "risk": 5.206987166276397,
          "risk_level": 7
         },
         {
          "correlation": 0.6,
          "num_assets": 11,
          "risk": 5.562106714653149,
          "risk_level": 7
         },
         {
          "correlation": 0.7,
          "num_assets": 11,
          "risk": 5.972437222989965,
          "risk_level": 7
         },
         {
          "correlation": 0,
          "num_assets": 12,
          "risk": 2.033635098726067,
          "risk_level": 7
         },
         {
          "correlation": 0.1,
          "num_assets": 12,
          "risk": 2.9297585978857343,
          "risk_level": 7
         },
         {
          "correlation": 0.2,
          "num_assets": 12,
          "risk": 3.632782200127362,
          "risk_level": 7
         },
         {
          "correlation": 0.3,
          "num_assets": 12,
          "risk": 4.190899047839884,
          "risk_level": 7
         },
         {
          "correlation": 0.4,
          "num_assets": 12,
          "risk": 4.7484861472403,
          "risk_level": 7
         },
         {
          "correlation": 0.5,
          "num_assets": 12,
          "risk": 5.187383613051373,
          "risk_level": 7
         },
         {
          "correlation": 0.6,
          "num_assets": 12,
          "risk": 5.556965260612781,
          "risk_level": 7
         },
         {
          "correlation": 0.7,
          "num_assets": 12,
          "risk": 5.968368680298536,
          "risk_level": 7
         },
         {
          "correlation": 0,
          "num_assets": 13,
          "risk": 1.9507716069466354,
          "risk_level": 7
         },
         {
          "correlation": 0.1,
          "num_assets": 13,
          "risk": 2.878544570142813,
          "risk_level": 7
         },
         {
          "correlation": 0.2,
          "num_assets": 13,
          "risk": 3.596775642815821,
          "risk_level": 7
         },
         {
          "correlation": 0.3,
          "num_assets": 13,
          "risk": 4.16935773973633,
          "risk_level": 7
         },
         {
          "correlation": 0.4,
          "num_assets": 13,
          "risk": 4.726015234818978,
          "risk_level": 7
         },
         {
          "correlation": 0.5,
          "num_assets": 13,
          "risk": 5.172396510061357,
          "risk_level": 7
         },
         {
          "correlation": 0.6,
          "num_assets": 13,
          "risk": 5.546251480182658,
          "risk_level": 7
         },
         {
          "correlation": 0.7,
          "num_assets": 13,
          "risk": 5.958956185312566,
          "risk_level": 7
         },
         {
          "correlation": 0,
          "num_assets": 14,
          "risk": 1.885468444262976,
          "risk_level": 7
         },
         {
          "correlation": 0.1,
          "num_assets": 14,
          "risk": 2.8305205044023922,
          "risk_level": 7
         },
         {
          "correlation": 0.2,
          "num_assets": 14,
          "risk": 3.5713359194965912,
          "risk_level": 7
         },
         {
          "correlation": 0.3,
          "num_assets": 14,
          "risk": 4.142194558537475,
          "risk_level": 7
         },
         {
          "correlation": 0.4,
          "num_assets": 14,
          "risk": 4.706377309847656,
          "risk_level": 7
         },
         {
          "correlation": 0.5,
          "num_assets": 14,
          "risk": 5.160539412200774,
          "risk_level": 7
         },
         {
          "correlation": 0.6,
          "num_assets": 14,
          "risk": 5.537627690962313,
          "risk_level": 7
         },
         {
          "correlation": 0.7,
          "num_assets": 14,
          "risk": 5.950099985772072,
          "risk_level": 7
         },
         {
          "correlation": 0,
          "num_assets": 15,
          "risk": 1.8152425509032288,
          "risk_level": 7
         },
         {
          "correlation": 0.1,
          "num_assets": 15,
          "risk": 2.7968592238676475,
          "risk_level": 7
         },
         {
          "correlation": 0.2,
          "num_assets": 15,
          "risk": 3.5498438712073708,
          "risk_level": 7
         },
         {
          "correlation": 0.3,
          "num_assets": 15,
          "risk": 4.1162140139131544,
          "risk_level": 7
         },
         {
          "correlation": 0.4,
          "num_assets": 15,
          "risk": 4.689040772508024,
          "risk_level": 7
         },
         {
          "correlation": 0.5,
          "num_assets": 15,
          "risk": 5.150238186655283,
          "risk_level": 7
         },
         {
          "correlation": 0.6,
          "num_assets": 15,
          "risk": 5.530255742110063,
          "risk_level": 7
         },
         {
          "correlation": 0.7,
          "num_assets": 15,
          "risk": 5.939913812216937,
          "risk_level": 7
         },
         {
          "correlation": 0,
          "num_assets": 16,
          "risk": 1.7570516919356627,
          "risk_level": 7
         },
         {
          "correlation": 0.1,
          "num_assets": 16,
          "risk": 2.7592676275660546,
          "risk_level": 7
         },
         {
          "correlation": 0.2,
          "num_assets": 16,
          "risk": 3.527690579195815,
          "risk_level": 7
         },
         {
          "correlation": 0.3,
          "num_assets": 16,
          "risk": 4.1035904288120095,
          "risk_level": 7
         },
         {
          "correlation": 0.4,
          "num_assets": 16,
          "risk": 4.673708609606866,
          "risk_level": 7
         },
         {
          "correlation": 0.5,
          "num_assets": 16,
          "risk": 5.139986440771873,
          "risk_level": 7
         },
         {
          "correlation": 0.6,
          "num_assets": 16,
          "risk": 5.522661291960701,
          "risk_level": 7
         },
         {
          "correlation": 0.7,
          "num_assets": 16,
          "risk": 5.936921554651374,
          "risk_level": 7
         },
         {
          "correlation": 0,
          "num_assets": 17,
          "risk": 1.7039115682012602,
          "risk_level": 7
         },
         {
          "correlation": 0.1,
          "num_assets": 17,
          "risk": 2.7316214216660724,
          "risk_level": 7
         },
         {
          "correlation": 0.2,
          "num_assets": 17,
          "risk": 3.513416131817652,
          "risk_level": 7
         },
         {
          "correlation": 0.3,
          "num_assets": 17,
          "risk": 4.0879139871016354,
          "risk_level": 7
         },
         {
          "correlation": 0.4,
          "num_assets": 17,
          "risk": 4.66135706661918,
          "risk_level": 7
         },
         {
          "correlation": 0.5,
          "num_assets": 17,
          "risk": 5.13133332206135,
          "risk_level": 7
         },
         {
          "correlation": 0.6,
          "num_assets": 17,
          "risk": 5.522752671741163,
          "risk_level": 7
         },
         {
          "correlation": 0.7,
          "num_assets": 17,
          "risk": 5.932234599475863,
          "risk_level": 7
         },
         {
          "correlation": 0,
          "num_assets": 18,
          "risk": 1.6527586454416792,
          "risk_level": 7
         },
         {
          "correlation": 0.1,
          "num_assets": 18,
          "risk": 2.7031281121623003,
          "risk_level": 7
         },
         {
          "correlation": 0.2,
          "num_assets": 18,
          "risk": 3.4918172324232764,
          "risk_level": 7
         },
         {
          "correlation": 0.3,
          "num_assets": 18,
          "risk": 4.068552476931406,
          "risk_level": 7
         },
         {
          "correlation": 0.4,
          "num_assets": 18,
          "risk": 4.649729430028262,
          "risk_level": 7
         },
         {
          "correlation": 0.5,
          "num_assets": 18,
          "risk": 5.126600787002969,
          "risk_level": 7
         },
         {
          "correlation": 0.6,
          "num_assets": 18,
          "risk": 5.515945273106887,
          "risk_level": 7
         },
         {
          "correlation": 0.7,
          "num_assets": 18,
          "risk": 5.9294426619000475,
          "risk_level": 7
         },
         {
          "correlation": 0,
          "num_assets": 19,
          "risk": 1.6104422480341252,
          "risk_level": 7
         },
         {
          "correlation": 0.1,
          "num_assets": 19,
          "risk": 2.682268265259875,
          "risk_level": 7
         },
         {
          "correlation": 0.2,
          "num_assets": 19,
          "risk": 3.4726942059905115,
          "risk_level": 7
         },
         {
          "correlation": 0.3,
          "num_assets": 19,
          "risk": 4.053955515435731,
          "risk_level": 7
         },
         {
          "correlation": 0.4,
          "num_assets": 19,
          "risk": 4.640939341103018,
          "risk_level": 7
         },
         {
          "correlation": 0.5,
          "num_assets": 19,
          "risk": 5.119866932785483,
          "risk_level": 7
         },
         {
          "correlation": 0.6,
          "num_assets": 19,
          "risk": 5.509879057828735,
          "risk_level": 7
         },
         {
          "correlation": 0.7,
          "num_assets": 19,
          "risk": 5.928254656644525,
          "risk_level": 7
         },
         {
          "correlation": 0,
          "num_assets": 20,
          "risk": 1.5720139795487094,
          "risk_level": 7
         },
         {
          "correlation": 0.1,
          "num_assets": 20,
          "risk": 2.661200400258242,
          "risk_level": 7
         },
         {
          "correlation": 0.2,
          "num_assets": 20,
          "risk": 3.459520271855853,
          "risk_level": 7
         },
         {
          "correlation": 0.3,
          "num_assets": 20,
          "risk": 4.046230647021512,
          "risk_level": 7
         },
         {
          "correlation": 0.4,
          "num_assets": 20,
          "risk": 4.62978606155755,
          "risk_level": 7
         },
         {
          "correlation": 0.5,
          "num_assets": 20,
          "risk": 5.112604852697897,
          "risk_level": 7
         },
         {
          "correlation": 0.6,
          "num_assets": 20,
          "risk": 5.49932277836328,
          "risk_level": 7
         },
         {
          "correlation": 0.7,
          "num_assets": 20,
          "risk": 5.924732915682491,
          "risk_level": 7
         }
        ]
       },
       "layer": [
        {
         "data": {
          "name": "data-1b71cfe6c8cf5bd493e3edbdee73d6f1"
         },
         "encoding": {
          "color": {
           "field": "correlation",
           "scale": {
            "scheme": "set2"
           },
           "type": "nominal"
          },
          "opacity": {
           "value": 0
          },
          "x": {
           "axis": {
            "title": "Number of Assets"
           },
           "field": "num_assets",
           "type": "quantitative"
          },
          "y": {
           "axis": {
            "title": "Risk %"
           },
           "field": "risk",
           "type": "quantitative"
          }
         },
         "height": 400,
         "mark": "circle",
         "selection": {
          "selector002": {
           "empty": "all",
           "fields": [
            "correlation"
           ],
           "nearest": true,
           "on": "mouseover",
           "resolve": "global",
           "type": "single"
          }
         },
         "title": "Risk % by number of assets in portfolio",
         "width": 600
        },
        {
         "data": {
          "name": "data-1b71cfe6c8cf5bd493e3edbdee73d6f1"
         },
         "encoding": {
          "color": {
           "field": "correlation",
           "scale": {
            "scheme": "set2"
           },
           "type": "nominal"
          },
          "size": {
           "condition": {
            "selection": {
             "not": "selector002"
            },
            "value": 1
           },
           "value": 3
          },
          "tooltip": [
           {
            "field": "correlation",
            "type": "quantitative"
           }
          ],
          "x": {
           "axis": {
            "title": "Number of Assets"
           },
           "field": "num_assets",
           "type": "quantitative"
          },
          "y": {
           "axis": {
            "title": "Risk %"
           },
           "field": "risk",
           "type": "quantitative"
          }
         },
         "mark": "line"
        }
       ]
      },
      "image/png": "[encoded data removed]",
      "text/plain": [
       "<VegaLite 2 object>\n",
       "\n",
       "If you see this message, it means the renderer has not been properly enabled\n",
       "for the frontend that you are using. For more information, see\n",
       "https://altair-viz.github.io/user_guide/troubleshooting.html\n"
      ]
     },
     "execution_count": 12,
     "metadata": {},
     "output_type": "execute_result"
    }
   ],
   "source": [
    "plot_risk_level(simulated_data, 7)"
   ]
  },
  {
   "cell_type": "markdown",
   "metadata": {},
   "source": [
    "## Conclusion"
   ]
  },
  {
   "cell_type": "markdown",
   "metadata": {},
   "source": [
    "The benefits of diversification are generally well known: reduced risk through exposure to different sources of income.  \n",
    "The insight Dalio brings to the forefront, is that the construction of a diversified portfolio through a combination of _uncorrelated_ return streams, significantly decreases our overall risk, raising in turn our return / risk ratio. By the careful mixing of uncorrelated assets, we capture true _alpha_, enabling us to use leverage to increase our returns."
   ]
  },
  {
   "cell_type": "code",
   "execution_count": null,
   "metadata": {},
   "outputs": [],
   "source": []
  }
 ],
 "metadata": {
  "kernelspec": {
   "display_name": "Python 3",
   "language": "python",
   "name": "python3"
  },
  "language_info": {
   "codemirror_mode": {
    "name": "ipython",
    "version": 3
   },
   "file_extension": ".py",
   "mimetype": "text/x-python",
   "name": "python",
   "nbconvert_exporter": "python",
   "pygments_lexer": "ipython3",
   "version": "3.6.7"
  }
 },
 "nbformat": 4,
 "nbformat_minor": 2
}
