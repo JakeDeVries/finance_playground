{
 "cells": [
  {
   "cell_type": "markdown",
   "metadata": {},
   "source": [
    "# HDF5 store\n",
    "\n",
    "https://www.hdfgroup.org/solutions/hdf5/"
   ]
  },
  {
   "cell_type": "code",
   "execution_count": 1,
   "metadata": {},
   "outputs": [
    {
     "name": "stdout",
     "output_type": "stream",
     "text": [
      "env: OPTIONS_DATA_PATH=~/work/algo-trading/data\n"
     ]
    }
   ],
   "source": [
    "%env OPTIONS_DATA_PATH=~/work/algo-trading/data\n",
    "\n",
    "import os\n",
    "import pandas as pd"
   ]
  },
  {
   "cell_type": "code",
   "execution_count": 2,
   "metadata": {},
   "outputs": [
    {
     "name": "stdout",
     "output_type": "stream",
     "text": [
      "9.05 s ± 1.03 s per loop (mean ± std. dev. of 7 runs, 1 loop each)\n"
     ]
    }
   ],
   "source": [
    "data_dir = os.path.expanduser(os.environ[\"OPTIONS_DATA_PATH\"])\n",
    "spx_dir = os.path.join(data_dir, \"allspx\")\n",
    "\n",
    "data_path = os.path.join(spx_dir, \"SPX_1990.csv\")\n",
    "os.path.getsize(data_path) / 1024**2\n",
    "\n",
    "%timeit pd.read_csv(data_path, parse_dates=[\"quotedate\", \"expiration\"])"
   ]
  },
  {
   "cell_type": "code",
   "execution_count": 3,
   "metadata": {},
   "outputs": [
    {
     "data": {
      "text/plain": [
       "underlying                 object\n",
       "underlying_last           float64\n",
       "exchange                   object\n",
       "optionroot                 object\n",
       "optionext                 float64\n",
       "type                     category\n",
       "expiration         datetime64[ns]\n",
       "quotedate          datetime64[ns]\n",
       "strike                      int64\n",
       "last                      float64\n",
       "bid                       float64\n",
       "ask                       float64\n",
       "volume                      int64\n",
       "openinterest                int64\n",
       "impliedvol                float64\n",
       "delta                     float64\n",
       "gamma                     float64\n",
       "theta                     float64\n",
       "vega                      float64\n",
       "optionalias                object\n",
       "dtype: object"
      ]
     },
     "execution_count": 3,
     "metadata": {},
     "output_type": "execute_result"
    }
   ],
   "source": [
    "df = pd.read_csv(data_path, parse_dates=[\"quotedate\", \"expiration\"])\n",
    "df.rename(columns={\" exchange\": \"exchange\"}, inplace=True)\n",
    "df[\"type\"] = df[\"type\"].astype(\"category\")\n",
    "df.dtypes"
   ]
  },
  {
   "cell_type": "code",
   "execution_count": 4,
   "metadata": {},
   "outputs": [
    {
     "name": "stdout",
     "output_type": "stream",
     "text": [
      "<class 'pandas.core.frame.DataFrame'>\n",
      "RangeIndex: 46352 entries, 0 to 46351\n",
      "Data columns (total 20 columns):\n",
      "underlying         46352 non-null object\n",
      "underlying_last    46352 non-null float64\n",
      "exchange           46352 non-null object\n",
      "optionroot         46352 non-null object\n",
      "optionext          0 non-null float64\n",
      "type               46352 non-null category\n",
      "expiration         46352 non-null datetime64[ns]\n",
      "quotedate          46352 non-null datetime64[ns]\n",
      "strike             46352 non-null int64\n",
      "last               46352 non-null float64\n",
      "bid                46352 non-null float64\n",
      "ask                46352 non-null float64\n",
      "volume             46352 non-null int64\n",
      "openinterest       46352 non-null int64\n",
      "impliedvol         46352 non-null float64\n",
      "delta              46352 non-null float64\n",
      "gamma              46352 non-null float64\n",
      "theta              46352 non-null float64\n",
      "vega               46352 non-null float64\n",
      "optionalias        46352 non-null object\n",
      "dtypes: category(1), datetime64[ns](2), float64(10), int64(3), object(4)\n",
      "memory usage: 17.2 MB\n"
     ]
    }
   ],
   "source": [
    "df.info(memory_usage=\"deep\")"
   ]
  },
  {
   "cell_type": "code",
   "execution_count": 5,
   "metadata": {},
   "outputs": [],
   "source": [
    "store = os.path.join(data_dir, \"spx_1990.h5\")\n",
    "df.to_hdf(store,\n",
    "          format=\"table\",\n",
    "          key=\"/spx_1990\",\n",
    "          mode=\"a\",\n",
    "          append=False, \n",
    "          complevel=9, \n",
    "          complib=\"blosc\",\n",
    "          fletcher32=True)"
   ]
  },
  {
   "cell_type": "code",
   "execution_count": 6,
   "metadata": {},
   "outputs": [
    {
     "name": "stdout",
     "output_type": "stream",
     "text": [
      "300 ms ± 19.8 ms per loop (mean ± std. dev. of 7 runs, 1 loop each)\n"
     ]
    }
   ],
   "source": [
    "%timeit pd.read_hdf(store, \"/spx_1990\")"
   ]
  },
  {
   "cell_type": "code",
   "execution_count": 7,
   "metadata": {},
   "outputs": [],
   "source": [
    "h5_df = pd.read_hdf(store, \"/spx_1990\")"
   ]
  },
  {
   "cell_type": "code",
   "execution_count": 8,
   "metadata": {},
   "outputs": [
    {
     "data": {
      "text/plain": [
       "underlying                 object\n",
       "underlying_last           float64\n",
       "exchange                   object\n",
       "optionroot                 object\n",
       "optionext                 float64\n",
       "type                     category\n",
       "expiration         datetime64[ns]\n",
       "quotedate          datetime64[ns]\n",
       "strike                      int64\n",
       "last                      float64\n",
       "bid                       float64\n",
       "ask                       float64\n",
       "volume                      int64\n",
       "openinterest                int64\n",
       "impliedvol                float64\n",
       "delta                     float64\n",
       "gamma                     float64\n",
       "theta                     float64\n",
       "vega                      float64\n",
       "optionalias                object\n",
       "dtype: object"
      ]
     },
     "execution_count": 8,
     "metadata": {},
     "output_type": "execute_result"
    }
   ],
   "source": [
    "h5_df.dtypes"
   ]
  },
  {
   "cell_type": "code",
   "execution_count": 9,
   "metadata": {},
   "outputs": [
    {
     "data": {
      "text/plain": [
       "2.555933952331543"
      ]
     },
     "execution_count": 9,
     "metadata": {},
     "output_type": "execute_result"
    }
   ],
   "source": [
    "os.path.getsize(store) / 1024**2"
   ]
  },
  {
   "cell_type": "code",
   "execution_count": 20,
   "metadata": {},
   "outputs": [
    {
     "data": {
      "text/plain": [
       "3328.750859260559"
      ]
     },
     "execution_count": 20,
     "metadata": {},
     "output_type": "execute_result"
    }
   ],
   "source": [
    "store_path = os.path.join(data_dir, \"options_data.h5\")\n",
    "store = pd.HDFStore(store_path)\n",
    "\n",
    "for year in range(1990, 2019):\n",
    "    filename = \"SPX_{}.csv\".format(year)\n",
    "    year_df = pd.read_csv(os.path.join(spx_dir, filename), parse_dates=[\"expiration\", \"quotedate\"])\n",
    "    year_df.rename(columns={\" exchange\": \"exchange\"}, inplace=True)\n",
    "    year_df[\"type\"] = df[\"type\"].astype(\"category\")\n",
    "    key = \"spx_{}\".format(year)\n",
    "    store.append(key, year_df)\n",
    "\n",
    "store.close()\n",
    "os.path.getsize(store_path) / 1024**2"
   ]
  },
  {
   "cell_type": "code",
   "execution_count": 25,
   "metadata": {},
   "outputs": [],
   "source": [
    "%cd -q $data_dir\n",
    "!ptrepack --complevel=9 --complib=blosc options_data.h5 options_data_compressed.h5"
   ]
  },
  {
   "cell_type": "code",
   "execution_count": 24,
   "metadata": {},
   "outputs": [
    {
     "data": {
      "text/plain": [
       "788.7592725753784"
      ]
     },
     "execution_count": 24,
     "metadata": {},
     "output_type": "execute_result"
    }
   ],
   "source": [
    "compressed_path = os.path.join(data_dir, \"options_data_compressed.h5\")\n",
    "os.path.getsize(compressed_path) / 1024**2"
   ]
  },
  {
   "cell_type": "code",
   "execution_count": 27,
   "metadata": {},
   "outputs": [
    {
     "data": {
      "text/html": [
       "<div>\n",
       "<style scoped>\n",
       "    .dataframe tbody tr th:only-of-type {\n",
       "        vertical-align: middle;\n",
       "    }\n",
       "\n",
       "    .dataframe tbody tr th {\n",
       "        vertical-align: top;\n",
       "    }\n",
       "\n",
       "    .dataframe thead th {\n",
       "        text-align: right;\n",
       "    }\n",
       "</style>\n",
       "<table border=\"1\" class=\"dataframe\">\n",
       "  <thead>\n",
       "    <tr style=\"text-align: right;\">\n",
       "      <th></th>\n",
       "      <th>underlying</th>\n",
       "      <th>underlying_last</th>\n",
       "      <th>exchange</th>\n",
       "      <th>optionroot</th>\n",
       "      <th>optionext</th>\n",
       "      <th>type</th>\n",
       "      <th>expiration</th>\n",
       "      <th>quotedate</th>\n",
       "      <th>strike</th>\n",
       "      <th>last</th>\n",
       "      <th>bid</th>\n",
       "      <th>ask</th>\n",
       "      <th>volume</th>\n",
       "      <th>openinterest</th>\n",
       "      <th>impliedvol</th>\n",
       "      <th>delta</th>\n",
       "      <th>gamma</th>\n",
       "      <th>theta</th>\n",
       "      <th>vega</th>\n",
       "      <th>optionalias</th>\n",
       "    </tr>\n",
       "  </thead>\n",
       "  <tbody>\n",
       "    <tr>\n",
       "      <th>0</th>\n",
       "      <td>SPX</td>\n",
       "      <td>2257.83</td>\n",
       "      <td>*</td>\n",
       "      <td>SPX170120C00100000</td>\n",
       "      <td>NaN</td>\n",
       "      <td>call</td>\n",
       "      <td>2017-01-20</td>\n",
       "      <td>2017-01-03</td>\n",
       "      <td>100</td>\n",
       "      <td>2161.50</td>\n",
       "      <td>2154.3</td>\n",
       "      <td>2158.7</td>\n",
       "      <td>0</td>\n",
       "      <td>5615</td>\n",
       "      <td>0.1214</td>\n",
       "      <td>1.0</td>\n",
       "      <td>0.0</td>\n",
       "      <td>-1.0239</td>\n",
       "      <td>0.0</td>\n",
       "      <td>SPX170120C00100000</td>\n",
       "    </tr>\n",
       "    <tr>\n",
       "      <th>1</th>\n",
       "      <td>SPX</td>\n",
       "      <td>2257.83</td>\n",
       "      <td>*</td>\n",
       "      <td>SPX170120C00200000</td>\n",
       "      <td>NaN</td>\n",
       "      <td>call</td>\n",
       "      <td>2017-01-20</td>\n",
       "      <td>2017-01-03</td>\n",
       "      <td>200</td>\n",
       "      <td>2060.95</td>\n",
       "      <td>2054.4</td>\n",
       "      <td>2058.8</td>\n",
       "      <td>0</td>\n",
       "      <td>6355</td>\n",
       "      <td>0.1214</td>\n",
       "      <td>1.0</td>\n",
       "      <td>0.0</td>\n",
       "      <td>-2.0479</td>\n",
       "      <td>0.0</td>\n",
       "      <td>SPX170120C00200000</td>\n",
       "    </tr>\n",
       "    <tr>\n",
       "      <th>2</th>\n",
       "      <td>SPX</td>\n",
       "      <td>2257.83</td>\n",
       "      <td>*</td>\n",
       "      <td>SPX170120C00300000</td>\n",
       "      <td>NaN</td>\n",
       "      <td>call</td>\n",
       "      <td>2017-01-20</td>\n",
       "      <td>2017-01-03</td>\n",
       "      <td>300</td>\n",
       "      <td>1960.45</td>\n",
       "      <td>1954.4</td>\n",
       "      <td>1958.8</td>\n",
       "      <td>0</td>\n",
       "      <td>2000</td>\n",
       "      <td>0.1214</td>\n",
       "      <td>1.0</td>\n",
       "      <td>0.0</td>\n",
       "      <td>-3.0718</td>\n",
       "      <td>0.0</td>\n",
       "      <td>SPX170120C00300000</td>\n",
       "    </tr>\n",
       "    <tr>\n",
       "      <th>3</th>\n",
       "      <td>SPX</td>\n",
       "      <td>2257.83</td>\n",
       "      <td>*</td>\n",
       "      <td>SPX170120C00400000</td>\n",
       "      <td>NaN</td>\n",
       "      <td>call</td>\n",
       "      <td>2017-01-20</td>\n",
       "      <td>2017-01-03</td>\n",
       "      <td>400</td>\n",
       "      <td>1760.55</td>\n",
       "      <td>1854.6</td>\n",
       "      <td>1858.9</td>\n",
       "      <td>0</td>\n",
       "      <td>25</td>\n",
       "      <td>0.1214</td>\n",
       "      <td>1.0</td>\n",
       "      <td>0.0</td>\n",
       "      <td>-4.0957</td>\n",
       "      <td>0.0</td>\n",
       "      <td>SPX170120C00400000</td>\n",
       "    </tr>\n",
       "    <tr>\n",
       "      <th>4</th>\n",
       "      <td>SPX</td>\n",
       "      <td>2257.83</td>\n",
       "      <td>*</td>\n",
       "      <td>SPX170120C00500000</td>\n",
       "      <td>NaN</td>\n",
       "      <td>call</td>\n",
       "      <td>2017-01-20</td>\n",
       "      <td>2017-01-03</td>\n",
       "      <td>500</td>\n",
       "      <td>1749.33</td>\n",
       "      <td>1754.6</td>\n",
       "      <td>1758.9</td>\n",
       "      <td>0</td>\n",
       "      <td>3813</td>\n",
       "      <td>0.1214</td>\n",
       "      <td>1.0</td>\n",
       "      <td>0.0</td>\n",
       "      <td>-5.1197</td>\n",
       "      <td>0.0</td>\n",
       "      <td>SPX170120C00500000</td>\n",
       "    </tr>\n",
       "  </tbody>\n",
       "</table>\n",
       "</div>"
      ],
      "text/plain": [
       "  underlying  underlying_last exchange          optionroot  optionext  type  \\\n",
       "0        SPX          2257.83        *  SPX170120C00100000        NaN  call   \n",
       "1        SPX          2257.83        *  SPX170120C00200000        NaN  call   \n",
       "2        SPX          2257.83        *  SPX170120C00300000        NaN  call   \n",
       "3        SPX          2257.83        *  SPX170120C00400000        NaN  call   \n",
       "4        SPX          2257.83        *  SPX170120C00500000        NaN  call   \n",
       "\n",
       "  expiration  quotedate  strike     last     bid     ask  volume  \\\n",
       "0 2017-01-20 2017-01-03     100  2161.50  2154.3  2158.7       0   \n",
       "1 2017-01-20 2017-01-03     200  2060.95  2054.4  2058.8       0   \n",
       "2 2017-01-20 2017-01-03     300  1960.45  1954.4  1958.8       0   \n",
       "3 2017-01-20 2017-01-03     400  1760.55  1854.6  1858.9       0   \n",
       "4 2017-01-20 2017-01-03     500  1749.33  1754.6  1758.9       0   \n",
       "\n",
       "   openinterest  impliedvol  delta  gamma   theta  vega         optionalias  \n",
       "0          5615      0.1214    1.0    0.0 -1.0239   0.0  SPX170120C00100000  \n",
       "1          6355      0.1214    1.0    0.0 -2.0479   0.0  SPX170120C00200000  \n",
       "2          2000      0.1214    1.0    0.0 -3.0718   0.0  SPX170120C00300000  \n",
       "3            25      0.1214    1.0    0.0 -4.0957   0.0  SPX170120C00400000  \n",
       "4          3813      0.1214    1.0    0.0 -5.1197   0.0  SPX170120C00500000  "
      ]
     },
     "execution_count": 27,
     "metadata": {},
     "output_type": "execute_result"
    }
   ],
   "source": [
    "spx_2017 = pd.read_hdf(compressed_path, key=\"spx_2017\")\n",
    "spx_2017.head()"
   ]
  },
  {
   "cell_type": "code",
   "execution_count": 28,
   "metadata": {},
   "outputs": [
    {
     "data": {
      "text/plain": [
       "underlying                 object\n",
       "underlying_last           float64\n",
       "exchange                   object\n",
       "optionroot                 object\n",
       "optionext                 float64\n",
       "type                     category\n",
       "expiration         datetime64[ns]\n",
       "quotedate          datetime64[ns]\n",
       "strike                      int64\n",
       "last                      float64\n",
       "bid                       float64\n",
       "ask                       float64\n",
       "volume                      int64\n",
       "openinterest                int64\n",
       "impliedvol                float64\n",
       "delta                     float64\n",
       "gamma                     float64\n",
       "theta                     float64\n",
       "vega                      float64\n",
       "optionalias                object\n",
       "dtype: object"
      ]
     },
     "execution_count": 28,
     "metadata": {},
     "output_type": "execute_result"
    }
   ],
   "source": [
    "spx_2017.dtypes"
   ]
  },
  {
   "cell_type": "code",
   "execution_count": 29,
   "metadata": {},
   "outputs": [
    {
     "name": "stdout",
     "output_type": "stream",
     "text": [
      "<class 'pandas.core.frame.DataFrame'>\n",
      "Int64Index: 2557526 entries, 0 to 2557525\n",
      "Data columns (total 20 columns):\n",
      "underlying         object\n",
      "underlying_last    float64\n",
      "exchange           object\n",
      "optionroot         object\n",
      "optionext          float64\n",
      "type               category\n",
      "expiration         datetime64[ns]\n",
      "quotedate          datetime64[ns]\n",
      "strike             int64\n",
      "last               float64\n",
      "bid                float64\n",
      "ask                float64\n",
      "volume             int64\n",
      "openinterest       int64\n",
      "impliedvol         float64\n",
      "delta              float64\n",
      "gamma              float64\n",
      "theta              float64\n",
      "vega               float64\n",
      "optionalias        object\n",
      "dtypes: category(1), datetime64[ns](2), float64(10), int64(3), object(4)\n",
      "memory usage: 988.4 MB\n"
     ]
    }
   ],
   "source": [
    "spx_2017.info(memory_usage=\"deep\")"
   ]
  },
  {
   "cell_type": "code",
   "execution_count": null,
   "metadata": {},
   "outputs": [],
   "source": []
  }
 ],
 "metadata": {
  "kernelspec": {
   "display_name": "Python 3",
   "language": "python",
   "name": "python3"
  },
  "language_info": {
   "codemirror_mode": {
    "name": "ipython",
    "version": 3
   },
   "file_extension": ".py",
   "mimetype": "text/x-python",
   "name": "python",
   "nbconvert_exporter": "python",
   "pygments_lexer": "ipython3",
   "version": "3.6.8"
  }
 },
 "nbformat": 4,
 "nbformat_minor": 2
}
