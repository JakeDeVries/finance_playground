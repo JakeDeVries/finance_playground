{
 "cells": [
  {
   "cell_type": "markdown",
   "metadata": {},
   "source": [
    "# HDF5 store\n",
    "\n",
    "https://www.hdfgroup.org/solutions/hdf5/"
   ]
  },
  {
   "cell_type": "code",
   "execution_count": 1,
   "metadata": {},
   "outputs": [
    {
     "name": "stdout",
     "output_type": "stream",
     "text": [
      "env: OPTIONS_DATA_PATH=~/work/algo-trading/data\n"
     ]
    }
   ],
   "source": [
    "%env OPTIONS_DATA_PATH=~/work/algo-trading/data\n",
    "\n",
    "import os\n",
    "import pandas as pd"
   ]
  },
  {
   "cell_type": "code",
   "execution_count": 2,
   "metadata": {},
   "outputs": [
    {
     "name": "stdout",
     "output_type": "stream",
     "text": [
      "9.05 s ± 1.03 s per loop (mean ± std. dev. of 7 runs, 1 loop each)\n"
     ]
    }
   ],
   "source": [
    "data_dir = os.path.expanduser(os.environ[\"OPTIONS_DATA_PATH\"])\n",
    "spx_dir = os.path.join(data_dir, \"allspx\")\n",
    "\n",
    "data_path = os.path.join(spx_dir, \"SPX_1990.csv\")\n",
    "os.path.getsize(data_path) / 1024**2\n",
    "\n",
    "%timeit pd.read_csv(data_path, parse_dates=[\"quotedate\", \"expiration\"])"
   ]
  },
  {
   "cell_type": "code",
   "execution_count": 3,
   "metadata": {},
   "outputs": [
    {
     "data": {
      "text/plain": [
       "underlying                 object\n",
       "underlying_last           float64\n",
       "exchange                   object\n",
       "optionroot                 object\n",
       "optionext                 float64\n",
       "type                     category\n",
       "expiration         datetime64[ns]\n",
       "quotedate          datetime64[ns]\n",
       "strike                      int64\n",
       "last                      float64\n",
       "bid                       float64\n",
       "ask                       float64\n",
       "volume                      int64\n",
       "openinterest                int64\n",
       "impliedvol                float64\n",
       "delta                     float64\n",
       "gamma                     float64\n",
       "theta                     float64\n",
       "vega                      float64\n",
       "optionalias                object\n",
       "dtype: object"
      ]
     },
     "execution_count": 3,
     "metadata": {},
     "output_type": "execute_result"
    }
   ],
   "source": [
    "df = pd.read_csv(data_path, parse_dates=[\"quotedate\", \"expiration\"])\n",
    "df.rename(columns={\" exchange\": \"exchange\"}, inplace=True)\n",
    "df[\"type\"] = df[\"type\"].astype(\"category\")\n",
    "df.dtypes"
   ]
  },
  {
   "cell_type": "code",
   "execution_count": 4,
   "metadata": {},
   "outputs": [
    {
     "name": "stdout",
     "output_type": "stream",
     "text": [
      "<class 'pandas.core.frame.DataFrame'>\n",
      "RangeIndex: 46352 entries, 0 to 46351\n",
      "Data columns (total 20 columns):\n",
      "underlying         46352 non-null object\n",
      "underlying_last    46352 non-null float64\n",
      "exchange           46352 non-null object\n",
      "optionroot         46352 non-null object\n",
      "optionext          0 non-null float64\n",
      "type               46352 non-null category\n",
      "expiration         46352 non-null datetime64[ns]\n",
      "quotedate          46352 non-null datetime64[ns]\n",
      "strike             46352 non-null int64\n",
      "last               46352 non-null float64\n",
      "bid                46352 non-null float64\n",
      "ask                46352 non-null float64\n",
      "volume             46352 non-null int64\n",
      "openinterest       46352 non-null int64\n",
      "impliedvol         46352 non-null float64\n",
      "delta              46352 non-null float64\n",
      "gamma              46352 non-null float64\n",
      "theta              46352 non-null float64\n",
      "vega               46352 non-null float64\n",
      "optionalias        46352 non-null object\n",
      "dtypes: category(1), datetime64[ns](2), float64(10), int64(3), object(4)\n",
      "memory usage: 17.2 MB\n"
     ]
    }
   ],
   "source": [
    "df.info(memory_usage=\"deep\")"
   ]
  },
  {
   "cell_type": "code",
   "execution_count": 5,
   "metadata": {},
   "outputs": [],
   "source": [
    "store = os.path.join(data_dir, \"spx_1990.h5\")\n",
    "df.to_hdf(store,\n",
    "          format=\"table\",\n",
    "          key=\"/spx_1990\",\n",
    "          mode=\"a\",\n",
    "          append=False, \n",
    "          complevel=9, \n",
    "          complib=\"blosc\",\n",
    "          fletcher32=True)"
   ]
  },
  {
   "cell_type": "code",
   "execution_count": 6,
   "metadata": {},
   "outputs": [
    {
     "name": "stdout",
     "output_type": "stream",
     "text": [
      "300 ms ± 19.8 ms per loop (mean ± std. dev. of 7 runs, 1 loop each)\n"
     ]
    }
   ],
   "source": [
    "%timeit pd.read_hdf(store, \"/spx_1990\")"
   ]
  },
  {
   "cell_type": "code",
   "execution_count": 7,
   "metadata": {},
   "outputs": [],
   "source": [
    "h5_df = pd.read_hdf(store, \"/spx_1990\")"
   ]
  },
  {
   "cell_type": "code",
   "execution_count": 8,
   "metadata": {},
   "outputs": [
    {
     "data": {
      "text/plain": [
       "underlying                 object\n",
       "underlying_last           float64\n",
       "exchange                   object\n",
       "optionroot                 object\n",
       "optionext                 float64\n",
       "type                     category\n",
       "expiration         datetime64[ns]\n",
       "quotedate          datetime64[ns]\n",
       "strike                      int64\n",
       "last                      float64\n",
       "bid                       float64\n",
       "ask                       float64\n",
       "volume                      int64\n",
       "openinterest                int64\n",
       "impliedvol                float64\n",
       "delta                     float64\n",
       "gamma                     float64\n",
       "theta                     float64\n",
       "vega                      float64\n",
       "optionalias                object\n",
       "dtype: object"
      ]
     },
     "execution_count": 8,
     "metadata": {},
     "output_type": "execute_result"
    }
   ],
   "source": [
    "h5_df.dtypes"
   ]
  },
  {
   "cell_type": "code",
   "execution_count": 9,
   "metadata": {},
   "outputs": [
    {
     "data": {
      "text/plain": [
       "2.555933952331543"
      ]
     },
     "execution_count": 9,
     "metadata": {},
     "output_type": "execute_result"
    }
   ],
   "source": [
    "os.path.getsize(store) / 1024**2"
   ]
  }
 ],
 "metadata": {
  "kernelspec": {
   "display_name": "Python 3",
   "language": "python",
   "name": "python3"
  },
  "language_info": {
   "codemirror_mode": {
    "name": "ipython",
    "version": 3
   },
   "file_extension": ".py",
   "mimetype": "text/x-python",
   "name": "python",
   "nbconvert_exporter": "python",
   "pygments_lexer": "ipython3",
   "version": "3.6.8"
  }
 },
 "nbformat": 4,
 "nbformat_minor": 2
}
